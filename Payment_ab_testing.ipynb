{
    "cells": [
        {
            "cell_type": "markdown",
            "metadata": {
                "cell_id": "bfc2ddb5f19a4e1e83e80f50fa2bc114",
                "deepnote_cell_type": "markdown"
            },
            "source": "##  A/B–тестирование результатов эксперимента по введению новой механики оплаты на сайте\n\n В ходе тестирования гипотезы целевой группе была предложена новая механика оплаты услуг на сайте, у контрольной группы оставалась базовая механика. Нам необходимо проанализировать итоги эксперимента и сделать вывод, стоит ли запускать новую механику оплаты на всех пользователей.",
            "block_group": "e4e30824a5394914af1aeabc6352ea7e"
        },
        {
            "cell_type": "code",
            "metadata": {
                "source_hash": "11fb5251",
                "execution_start": 1756812605119,
                "execution_millis": 2701,
                "execution_context_id": "15d1de5c-41eb-4b55-991e-4e7a71896f2e",
                "cell_id": "045d5746691d4d688933ab9c99433e13",
                "deepnote_cell_type": "code"
            },
            "source": "import pandas as pd\nimport numpy as np\nimport matplotlib.pyplot as plt\nfrom scipy import stats\n!pip install statsmodels\nfrom statsmodels.stats.proportion import proportions_ztest\nimport seaborn as sns",
            "block_group": "23585eb2966346e88b85965fe167d722",
            "execution_count": 1,
            "outputs": [
                {
                    "name": "stdout",
                    "text": "Requirement already satisfied: statsmodels in /root/venv/lib/python3.10/site-packages (0.14.5)\nRequirement already satisfied: pandas!=2.1.0,>=1.4 in /root/venv/lib/python3.10/site-packages (from statsmodels) (2.1.4)\nRequirement already satisfied: scipy!=1.9.2,>=1.8 in /root/venv/lib/python3.10/site-packages (from statsmodels) (1.9.3)\nRequirement already satisfied: numpy<3,>=1.22.3 in /root/venv/lib/python3.10/site-packages (from statsmodels) (1.25.2)\nRequirement already satisfied: packaging>=21.3 in /root/venv/lib/python3.10/site-packages (from statsmodels) (25.0)\nRequirement already satisfied: patsy>=0.5.6 in /root/venv/lib/python3.10/site-packages (from statsmodels) (1.0.1)\nRequirement already satisfied: pytz>=2020.1 in /root/venv/lib/python3.10/site-packages (from pandas!=2.1.0,>=1.4->statsmodels) (2025.2)\nRequirement already satisfied: tzdata>=2022.1 in /root/venv/lib/python3.10/site-packages (from pandas!=2.1.0,>=1.4->statsmodels) (2025.2)\nRequirement already satisfied: python-dateutil>=2.8.2 in /root/venv/lib/python3.10/site-packages (from pandas!=2.1.0,>=1.4->statsmodels) (2.9.0.post0)\nRequirement already satisfied: six>=1.5 in /root/venv/lib/python3.10/site-packages (from python-dateutil>=2.8.2->pandas!=2.1.0,>=1.4->statsmodels) (1.17.0)\n\n\u001b[1m[\u001b[0m\u001b[34;49mnotice\u001b[0m\u001b[1;39;49m]\u001b[0m\u001b[39;49m A new release of pip is available: \u001b[0m\u001b[31;49m23.0.1\u001b[0m\u001b[39;49m -> \u001b[0m\u001b[32;49m25.2\u001b[0m\n\u001b[1m[\u001b[0m\u001b[34;49mnotice\u001b[0m\u001b[1;39;49m]\u001b[0m\u001b[39;49m To update, run: \u001b[0m\u001b[32;49mpip install --upgrade pip\u001b[0m\n",
                    "output_type": "stream"
                }
            ],
            "outputs_reference": "s3:deepnote-cell-outputs-production/326a1a66-cf1c-4b9a-b0f2-2a7903db16bd",
            "content_dependencies": null
        },
        {
            "cell_type": "code",
            "metadata": {
                "source_hash": "6f9ae084",
                "execution_start": 1756812607869,
                "execution_millis": 341,
                "execution_context_id": "15d1de5c-41eb-4b55-991e-4e7a71896f2e",
                "cell_id": "236e2421f8d042d5b0fa3fad4323999b",
                "deepnote_cell_type": "code"
            },
            "source": "groups     = pd.read_csv(\"2_groups.csv\", sep=\";\")\ngroups_add = pd.read_csv( \"group_add.csv\")\nchecks     = pd.read_csv( \"2_checks.csv\", sep=\";\")\nactive     = pd.read_csv(\"active_studs.csv\", sep=\";\")",
            "block_group": "caa1829e69bd485ab68b6c9a4364cf19",
            "execution_count": 2,
            "outputs": [],
            "outputs_reference": null,
            "content_dependencies": null
        },
        {
            "cell_type": "code",
            "metadata": {
                "source_hash": "c6cac49d",
                "execution_start": 1756812608269,
                "execution_millis": 1,
                "execution_context_id": "15d1de5c-41eb-4b55-991e-4e7a71896f2e",
                "cell_id": "4c824b2084d34b97a08bb59224046a00",
                "deepnote_cell_type": "code"
            },
            "source": "groups",
            "block_group": "9aa518a732304222b75d3b042d1dfef1",
            "execution_count": 3,
            "outputs": [
                {
                    "output_type": "execute_result",
                    "execution_count": 3,
                    "data": {
                        "application/vnd.deepnote.dataframe.v3+json": {
                            "column_count": 2,
                            "columns": [
                                {
                                    "name": "id",
                                    "dtype": "int64",
                                    "stats": {
                                        "unique_count": 74484,
                                        "nan_count": 0,
                                        "min": "1489",
                                        "max": "5694419",
                                        "histogram": [
                                            {
                                                "bin_start": 1489,
                                                "bin_end": 570782,
                                                "count": 12977
                                            },
                                            {
                                                "bin_start": 570782,
                                                "bin_end": 1140075,
                                                "count": 11258
                                            },
                                            {
                                                "bin_start": 1140075,
                                                "bin_end": 1709368,
                                                "count": 13832
                                            },
                                            {
                                                "bin_start": 1709368,
                                                "bin_end": 2278661,
                                                "count": 7559
                                            },
                                            {
                                                "bin_start": 2278661,
                                                "bin_end": 2847954,
                                                "count": 5066
                                            },
                                            {
                                                "bin_start": 2847954,
                                                "bin_end": 3417247,
                                                "count": 6672
                                            },
                                            {
                                                "bin_start": 3417247,
                                                "bin_end": 3986540,
                                                "count": 4728
                                            },
                                            {
                                                "bin_start": 3986540,
                                                "bin_end": 4555833,
                                                "count": 5141
                                            },
                                            {
                                                "bin_start": 4555833,
                                                "bin_end": 5125126,
                                                "count": 4078
                                            },
                                            {
                                                "bin_start": 5125126,
                                                "bin_end": 5694419,
                                                "count": 3173
                                            }
                                        ],
                                        "categories": null
                                    }
                                },
                                {
                                    "name": "grp",
                                    "dtype": "object"
                                },
                                {
                                    "name": "_deepnote_index_column",
                                    "dtype": "int64"
                                }
                            ],
                            "row_count": 74484,
                            "preview_row_count": 74484,
                            "rows": [
                                {
                                    "id": 1489,
                                    "grp": "B",
                                    "_deepnote_index_column": 0
                                },
                                {
                                    "id": 1627,
                                    "grp": "A",
                                    "_deepnote_index_column": 1
                                },
                                {
                                    "id": 1768,
                                    "grp": "B",
                                    "_deepnote_index_column": 2
                                },
                                {
                                    "id": 1783,
                                    "grp": "B",
                                    "_deepnote_index_column": 3
                                },
                                {
                                    "id": 1794,
                                    "grp": "A",
                                    "_deepnote_index_column": 4
                                },
                                {
                                    "id": 1803,
                                    "grp": "B",
                                    "_deepnote_index_column": 5
                                },
                                {
                                    "id": 1805,
                                    "grp": "B",
                                    "_deepnote_index_column": 6
                                },
                                {
                                    "id": 2067,
                                    "grp": "A",
                                    "_deepnote_index_column": 7
                                },
                                {
                                    "id": 2078,
                                    "grp": "A",
                                    "_deepnote_index_column": 8
                                },
                                {
                                    "id": 2080,
                                    "grp": "B",
                                    "_deepnote_index_column": 9
                                }
                            ],
                            "type": "dataframe"
                        },
                        "text/plain": "            id grp\n0         1489   B\n1         1627   A\n2         1768   B\n3         1783   B\n4         1794   A\n...        ...  ..\n74479  5692459   B\n74480  5692572   B\n74481  5692865   B\n74482  5693667   B\n74483  5694419   B\n\n[74484 rows x 2 columns]",
                        "text/html": "<div>\n<style scoped>\n    .dataframe tbody tr th:only-of-type {\n        vertical-align: middle;\n    }\n\n    .dataframe tbody tr th {\n        vertical-align: top;\n    }\n\n    .dataframe thead th {\n        text-align: right;\n    }\n</style>\n<table border=\"1\" class=\"dataframe\">\n  <thead>\n    <tr style=\"text-align: right;\">\n      <th></th>\n      <th>id</th>\n      <th>grp</th>\n    </tr>\n  </thead>\n  <tbody>\n    <tr>\n      <th>0</th>\n      <td>1489</td>\n      <td>B</td>\n    </tr>\n    <tr>\n      <th>1</th>\n      <td>1627</td>\n      <td>A</td>\n    </tr>\n    <tr>\n      <th>2</th>\n      <td>1768</td>\n      <td>B</td>\n    </tr>\n    <tr>\n      <th>3</th>\n      <td>1783</td>\n      <td>B</td>\n    </tr>\n    <tr>\n      <th>4</th>\n      <td>1794</td>\n      <td>A</td>\n    </tr>\n    <tr>\n      <th>...</th>\n      <td>...</td>\n      <td>...</td>\n    </tr>\n    <tr>\n      <th>74479</th>\n      <td>5692459</td>\n      <td>B</td>\n    </tr>\n    <tr>\n      <th>74480</th>\n      <td>5692572</td>\n      <td>B</td>\n    </tr>\n    <tr>\n      <th>74481</th>\n      <td>5692865</td>\n      <td>B</td>\n    </tr>\n    <tr>\n      <th>74482</th>\n      <td>5693667</td>\n      <td>B</td>\n    </tr>\n    <tr>\n      <th>74483</th>\n      <td>5694419</td>\n      <td>B</td>\n    </tr>\n  </tbody>\n</table>\n<p>74484 rows × 2 columns</p>\n</div>"
                    },
                    "metadata": {}
                }
            ],
            "outputs_reference": "s3:deepnote-cell-outputs-production/3b7de5ef-709c-4186-bb61-0ed2c1017655",
            "content_dependencies": null
        },
        {
            "cell_type": "code",
            "metadata": {
                "source_hash": "3734040b",
                "execution_start": 1756812608319,
                "execution_millis": 1,
                "execution_context_id": "15d1de5c-41eb-4b55-991e-4e7a71896f2e",
                "cell_id": "2da1b4ffe68541d18cdc8ff7ee725998",
                "deepnote_cell_type": "code"
            },
            "source": "groups_add",
            "block_group": "a0deba92667748e88b7c5407c81ee22b",
            "execution_count": 4,
            "outputs": [
                {
                    "output_type": "execute_result",
                    "execution_count": 4,
                    "data": {
                        "application/vnd.deepnote.dataframe.v3+json": {
                            "column_count": 2,
                            "columns": [
                                {
                                    "name": "id",
                                    "dtype": "int64",
                                    "stats": {
                                        "unique_count": 92,
                                        "nan_count": 0,
                                        "min": "5694584",
                                        "max": "201067659",
                                        "histogram": [
                                            {
                                                "bin_start": 5694584,
                                                "bin_end": 25231891.5,
                                                "count": 81
                                            },
                                            {
                                                "bin_start": 25231891.5,
                                                "bin_end": 44769199,
                                                "count": 0
                                            },
                                            {
                                                "bin_start": 44769199,
                                                "bin_end": 64306506.5,
                                                "count": 0
                                            },
                                            {
                                                "bin_start": 64306506.5,
                                                "bin_end": 83843814,
                                                "count": 0
                                            },
                                            {
                                                "bin_start": 83843814,
                                                "bin_end": 103381121.5,
                                                "count": 1
                                            },
                                            {
                                                "bin_start": 103381121.5,
                                                "bin_end": 122918429,
                                                "count": 0
                                            },
                                            {
                                                "bin_start": 122918429,
                                                "bin_end": 142455736.5,
                                                "count": 0
                                            },
                                            {
                                                "bin_start": 142455736.5,
                                                "bin_end": 161993044,
                                                "count": 0
                                            },
                                            {
                                                "bin_start": 161993044,
                                                "bin_end": 181530351.5,
                                                "count": 0
                                            },
                                            {
                                                "bin_start": 181530351.5,
                                                "bin_end": 201067659,
                                                "count": 10
                                            }
                                        ],
                                        "categories": null
                                    }
                                },
                                {
                                    "name": "grp",
                                    "dtype": "object",
                                    "stats": {
                                        "unique_count": 2,
                                        "nan_count": 0,
                                        "min": null,
                                        "max": null,
                                        "histogram": null,
                                        "categories": [
                                            {
                                                "name": "B",
                                                "count": 70
                                            },
                                            {
                                                "name": "A",
                                                "count": 22
                                            }
                                        ]
                                    }
                                },
                                {
                                    "name": "_deepnote_index_column",
                                    "dtype": "int64"
                                }
                            ],
                            "row_count": 92,
                            "preview_row_count": 92,
                            "rows": [
                                {
                                    "id": 5694584,
                                    "grp": "B",
                                    "_deepnote_index_column": 0
                                },
                                {
                                    "id": 5694830,
                                    "grp": "B",
                                    "_deepnote_index_column": 1
                                },
                                {
                                    "id": 5695057,
                                    "grp": "B",
                                    "_deepnote_index_column": 2
                                },
                                {
                                    "id": 5698872,
                                    "grp": "B",
                                    "_deepnote_index_column": 3
                                },
                                {
                                    "id": 5699067,
                                    "grp": "B",
                                    "_deepnote_index_column": 4
                                },
                                {
                                    "id": 5699132,
                                    "grp": "B",
                                    "_deepnote_index_column": 5
                                },
                                {
                                    "id": 5699712,
                                    "grp": "B",
                                    "_deepnote_index_column": 6
                                },
                                {
                                    "id": 5700613,
                                    "grp": "B",
                                    "_deepnote_index_column": 7
                                },
                                {
                                    "id": 5700771,
                                    "grp": "B",
                                    "_deepnote_index_column": 8
                                },
                                {
                                    "id": 5701056,
                                    "grp": "B",
                                    "_deepnote_index_column": 9
                                }
                            ],
                            "type": "dataframe"
                        },
                        "text/plain": "           id grp\n0     5694584   B\n1     5694830   B\n2     5695057   B\n3     5698872   B\n4     5699067   B\n..        ...  ..\n87  200247820   B\n88  201032527   B\n89  201067612   B\n90  201067653   B\n91  201067659   B\n\n[92 rows x 2 columns]",
                        "text/html": "<div>\n<style scoped>\n    .dataframe tbody tr th:only-of-type {\n        vertical-align: middle;\n    }\n\n    .dataframe tbody tr th {\n        vertical-align: top;\n    }\n\n    .dataframe thead th {\n        text-align: right;\n    }\n</style>\n<table border=\"1\" class=\"dataframe\">\n  <thead>\n    <tr style=\"text-align: right;\">\n      <th></th>\n      <th>id</th>\n      <th>grp</th>\n    </tr>\n  </thead>\n  <tbody>\n    <tr>\n      <th>0</th>\n      <td>5694584</td>\n      <td>B</td>\n    </tr>\n    <tr>\n      <th>1</th>\n      <td>5694830</td>\n      <td>B</td>\n    </tr>\n    <tr>\n      <th>2</th>\n      <td>5695057</td>\n      <td>B</td>\n    </tr>\n    <tr>\n      <th>3</th>\n      <td>5698872</td>\n      <td>B</td>\n    </tr>\n    <tr>\n      <th>4</th>\n      <td>5699067</td>\n      <td>B</td>\n    </tr>\n    <tr>\n      <th>...</th>\n      <td>...</td>\n      <td>...</td>\n    </tr>\n    <tr>\n      <th>87</th>\n      <td>200247820</td>\n      <td>B</td>\n    </tr>\n    <tr>\n      <th>88</th>\n      <td>201032527</td>\n      <td>B</td>\n    </tr>\n    <tr>\n      <th>89</th>\n      <td>201067612</td>\n      <td>B</td>\n    </tr>\n    <tr>\n      <th>90</th>\n      <td>201067653</td>\n      <td>B</td>\n    </tr>\n    <tr>\n      <th>91</th>\n      <td>201067659</td>\n      <td>B</td>\n    </tr>\n  </tbody>\n</table>\n<p>92 rows × 2 columns</p>\n</div>"
                    },
                    "metadata": {}
                }
            ],
            "outputs_reference": "s3:deepnote-cell-outputs-production/2ff26333-2ae2-4141-83b5-d8c93e60d1ed",
            "content_dependencies": null
        },
        {
            "cell_type": "code",
            "metadata": {
                "source_hash": "72f88da2",
                "execution_start": 1756812608369,
                "execution_millis": 1,
                "execution_context_id": "15d1de5c-41eb-4b55-991e-4e7a71896f2e",
                "cell_id": "30d388e2bbfc4c1e9158e57e38a23dcd",
                "deepnote_cell_type": "code"
            },
            "source": "checks",
            "block_group": "4efe43bc6bab4e409ce9c035727f65bd",
            "execution_count": 5,
            "outputs": [
                {
                    "output_type": "execute_result",
                    "execution_count": 5,
                    "data": {
                        "application/vnd.deepnote.dataframe.v3+json": {
                            "column_count": 2,
                            "columns": [
                                {
                                    "name": "student_id",
                                    "dtype": "int64",
                                    "stats": {
                                        "unique_count": 541,
                                        "nan_count": 0,
                                        "min": "1627",
                                        "max": "5740903",
                                        "histogram": [
                                            {
                                                "bin_start": 1627,
                                                "bin_end": 575554.6,
                                                "count": 112
                                            },
                                            {
                                                "bin_start": 575554.6,
                                                "bin_end": 1149482.2,
                                                "count": 58
                                            },
                                            {
                                                "bin_start": 1149482.2,
                                                "bin_end": 1723409.7999999998,
                                                "count": 62
                                            },
                                            {
                                                "bin_start": 1723409.7999999998,
                                                "bin_end": 2297337.4,
                                                "count": 28
                                            },
                                            {
                                                "bin_start": 2297337.4,
                                                "bin_end": 2871265,
                                                "count": 29
                                            },
                                            {
                                                "bin_start": 2871265,
                                                "bin_end": 3445192.5999999996,
                                                "count": 78
                                            },
                                            {
                                                "bin_start": 3445192.5999999996,
                                                "bin_end": 4019120.1999999997,
                                                "count": 42
                                            },
                                            {
                                                "bin_start": 4019120.1999999997,
                                                "bin_end": 4593047.8,
                                                "count": 48
                                            },
                                            {
                                                "bin_start": 4593047.8,
                                                "bin_end": 5166975.399999999,
                                                "count": 40
                                            },
                                            {
                                                "bin_start": 5166975.399999999,
                                                "bin_end": 5740903,
                                                "count": 44
                                            }
                                        ],
                                        "categories": null
                                    }
                                },
                                {
                                    "name": "rev",
                                    "dtype": "float64",
                                    "stats": {
                                        "unique_count": 39,
                                        "nan_count": 0,
                                        "min": "199.0",
                                        "max": "4650.0",
                                        "histogram": [
                                            {
                                                "bin_start": 199,
                                                "bin_end": 644.1,
                                                "count": 180
                                            },
                                            {
                                                "bin_start": 644.1,
                                                "bin_end": 1089.2,
                                                "count": 156
                                            },
                                            {
                                                "bin_start": 1089.2,
                                                "bin_end": 1534.3000000000002,
                                                "count": 40
                                            },
                                            {
                                                "bin_start": 1534.3000000000002,
                                                "bin_end": 1979.4,
                                                "count": 136
                                            },
                                            {
                                                "bin_start": 1979.4,
                                                "bin_end": 2424.5,
                                                "count": 10
                                            },
                                            {
                                                "bin_start": 2424.5,
                                                "bin_end": 2869.6000000000004,
                                                "count": 2
                                            },
                                            {
                                                "bin_start": 2869.6000000000004,
                                                "bin_end": 3314.7000000000003,
                                                "count": 11
                                            },
                                            {
                                                "bin_start": 3314.7000000000003,
                                                "bin_end": 3759.8,
                                                "count": 5
                                            },
                                            {
                                                "bin_start": 3759.8,
                                                "bin_end": 4204.9,
                                                "count": 0
                                            },
                                            {
                                                "bin_start": 4204.9,
                                                "bin_end": 4650,
                                                "count": 1
                                            }
                                        ],
                                        "categories": null
                                    }
                                },
                                {
                                    "name": "_deepnote_index_column",
                                    "dtype": "int64"
                                }
                            ],
                            "row_count": 541,
                            "preview_row_count": 541,
                            "rows": [
                                {
                                    "student_id": 1627,
                                    "rev": 990,
                                    "_deepnote_index_column": 0
                                },
                                {
                                    "student_id": 3185,
                                    "rev": 690,
                                    "_deepnote_index_column": 1
                                },
                                {
                                    "student_id": 25973,
                                    "rev": 690,
                                    "_deepnote_index_column": 2
                                },
                                {
                                    "student_id": 26280,
                                    "rev": 690,
                                    "_deepnote_index_column": 3
                                },
                                {
                                    "student_id": 100300,
                                    "rev": 990,
                                    "_deepnote_index_column": 4
                                },
                                {
                                    "student_id": 100645,
                                    "rev": 630,
                                    "_deepnote_index_column": 5
                                },
                                {
                                    "student_id": 102534,
                                    "rev": 580,
                                    "_deepnote_index_column": 6
                                },
                                {
                                    "student_id": 106837,
                                    "rev": 290,
                                    "_deepnote_index_column": 7
                                },
                                {
                                    "student_id": 108270,
                                    "rev": 290,
                                    "_deepnote_index_column": 8
                                },
                                {
                                    "student_id": 114366,
                                    "rev": 690,
                                    "_deepnote_index_column": 9
                                }
                            ],
                            "type": "dataframe"
                        },
                        "text/plain": "     student_id     rev\n0          1627   990.0\n1          3185   690.0\n2         25973   690.0\n3         26280   690.0\n4        100300   990.0\n..          ...     ...\n536     5645737  1900.0\n537     5651566  1900.0\n538     5662322  1900.0\n539     5681918  1900.0\n540     5740903  1900.0\n\n[541 rows x 2 columns]",
                        "text/html": "<div>\n<style scoped>\n    .dataframe tbody tr th:only-of-type {\n        vertical-align: middle;\n    }\n\n    .dataframe tbody tr th {\n        vertical-align: top;\n    }\n\n    .dataframe thead th {\n        text-align: right;\n    }\n</style>\n<table border=\"1\" class=\"dataframe\">\n  <thead>\n    <tr style=\"text-align: right;\">\n      <th></th>\n      <th>student_id</th>\n      <th>rev</th>\n    </tr>\n  </thead>\n  <tbody>\n    <tr>\n      <th>0</th>\n      <td>1627</td>\n      <td>990.0</td>\n    </tr>\n    <tr>\n      <th>1</th>\n      <td>3185</td>\n      <td>690.0</td>\n    </tr>\n    <tr>\n      <th>2</th>\n      <td>25973</td>\n      <td>690.0</td>\n    </tr>\n    <tr>\n      <th>3</th>\n      <td>26280</td>\n      <td>690.0</td>\n    </tr>\n    <tr>\n      <th>4</th>\n      <td>100300</td>\n      <td>990.0</td>\n    </tr>\n    <tr>\n      <th>...</th>\n      <td>...</td>\n      <td>...</td>\n    </tr>\n    <tr>\n      <th>536</th>\n      <td>5645737</td>\n      <td>1900.0</td>\n    </tr>\n    <tr>\n      <th>537</th>\n      <td>5651566</td>\n      <td>1900.0</td>\n    </tr>\n    <tr>\n      <th>538</th>\n      <td>5662322</td>\n      <td>1900.0</td>\n    </tr>\n    <tr>\n      <th>539</th>\n      <td>5681918</td>\n      <td>1900.0</td>\n    </tr>\n    <tr>\n      <th>540</th>\n      <td>5740903</td>\n      <td>1900.0</td>\n    </tr>\n  </tbody>\n</table>\n<p>541 rows × 2 columns</p>\n</div>"
                    },
                    "metadata": {}
                }
            ],
            "outputs_reference": "s3:deepnote-cell-outputs-production/37e70965-1627-4990-9ffb-baf436050d90",
            "content_dependencies": null
        },
        {
            "cell_type": "code",
            "metadata": {
                "source_hash": "27514d61",
                "execution_start": 1756812608429,
                "execution_millis": 1,
                "execution_context_id": "15d1de5c-41eb-4b55-991e-4e7a71896f2e",
                "cell_id": "a2f652530f054c418d3dcd29c0e65459",
                "deepnote_cell_type": "code"
            },
            "source": "active",
            "block_group": "9a16aa4da5894dad91041cb56e77eef8",
            "execution_count": 6,
            "outputs": [
                {
                    "output_type": "execute_result",
                    "execution_count": 6,
                    "data": {
                        "application/vnd.deepnote.dataframe.v3+json": {
                            "column_count": 1,
                            "columns": [
                                {
                                    "name": "student_id",
                                    "dtype": "int64",
                                    "stats": {
                                        "unique_count": 8341,
                                        "nan_count": 0,
                                        "min": "1627",
                                        "max": "5951797",
                                        "histogram": [
                                            {
                                                "bin_start": 1627,
                                                "bin_end": 596644,
                                                "count": 1037
                                            },
                                            {
                                                "bin_start": 596644,
                                                "bin_end": 1191661,
                                                "count": 1330
                                            },
                                            {
                                                "bin_start": 1191661,
                                                "bin_end": 1786678,
                                                "count": 1389
                                            },
                                            {
                                                "bin_start": 1786678,
                                                "bin_end": 2381695,
                                                "count": 665
                                            },
                                            {
                                                "bin_start": 2381695,
                                                "bin_end": 2976712,
                                                "count": 509
                                            },
                                            {
                                                "bin_start": 2976712,
                                                "bin_end": 3571729,
                                                "count": 1227
                                            },
                                            {
                                                "bin_start": 3571729,
                                                "bin_end": 4166746,
                                                "count": 630
                                            },
                                            {
                                                "bin_start": 4166746,
                                                "bin_end": 4761763,
                                                "count": 714
                                            },
                                            {
                                                "bin_start": 4761763,
                                                "bin_end": 5356780,
                                                "count": 601
                                            },
                                            {
                                                "bin_start": 5356780,
                                                "bin_end": 5951797,
                                                "count": 239
                                            }
                                        ],
                                        "categories": null
                                    }
                                },
                                {
                                    "name": "_deepnote_index_column",
                                    "dtype": "int64"
                                }
                            ],
                            "row_count": 8341,
                            "preview_row_count": 8341,
                            "rows": [
                                {
                                    "student_id": 581585,
                                    "_deepnote_index_column": 0
                                },
                                {
                                    "student_id": 5723133,
                                    "_deepnote_index_column": 1
                                },
                                {
                                    "student_id": 3276743,
                                    "_deepnote_index_column": 2
                                },
                                {
                                    "student_id": 4238589,
                                    "_deepnote_index_column": 3
                                },
                                {
                                    "student_id": 4475369,
                                    "_deepnote_index_column": 4
                                },
                                {
                                    "student_id": 5481015,
                                    "_deepnote_index_column": 5
                                },
                                {
                                    "student_id": 1353433,
                                    "_deepnote_index_column": 6
                                },
                                {
                                    "student_id": 1394612,
                                    "_deepnote_index_column": 7
                                },
                                {
                                    "student_id": 1170611,
                                    "_deepnote_index_column": 8
                                },
                                {
                                    "student_id": 491277,
                                    "_deepnote_index_column": 9
                                }
                            ],
                            "type": "dataframe"
                        },
                        "text/plain": "      student_id\n0         581585\n1        5723133\n2        3276743\n3        4238589\n4        4475369\n...          ...\n8336     1794344\n8337      296883\n8338     3598448\n8339     3610547\n8340      205705\n\n[8341 rows x 1 columns]",
                        "text/html": "<div>\n<style scoped>\n    .dataframe tbody tr th:only-of-type {\n        vertical-align: middle;\n    }\n\n    .dataframe tbody tr th {\n        vertical-align: top;\n    }\n\n    .dataframe thead th {\n        text-align: right;\n    }\n</style>\n<table border=\"1\" class=\"dataframe\">\n  <thead>\n    <tr style=\"text-align: right;\">\n      <th></th>\n      <th>student_id</th>\n    </tr>\n  </thead>\n  <tbody>\n    <tr>\n      <th>0</th>\n      <td>581585</td>\n    </tr>\n    <tr>\n      <th>1</th>\n      <td>5723133</td>\n    </tr>\n    <tr>\n      <th>2</th>\n      <td>3276743</td>\n    </tr>\n    <tr>\n      <th>3</th>\n      <td>4238589</td>\n    </tr>\n    <tr>\n      <th>4</th>\n      <td>4475369</td>\n    </tr>\n    <tr>\n      <th>...</th>\n      <td>...</td>\n    </tr>\n    <tr>\n      <th>8336</th>\n      <td>1794344</td>\n    </tr>\n    <tr>\n      <th>8337</th>\n      <td>296883</td>\n    </tr>\n    <tr>\n      <th>8338</th>\n      <td>3598448</td>\n    </tr>\n    <tr>\n      <th>8339</th>\n      <td>3610547</td>\n    </tr>\n    <tr>\n      <th>8340</th>\n      <td>205705</td>\n    </tr>\n  </tbody>\n</table>\n<p>8341 rows × 1 columns</p>\n</div>"
                    },
                    "metadata": {}
                }
            ],
            "outputs_reference": "s3:deepnote-cell-outputs-production/800aa307-cd85-49b3-b4c1-83db7e8f8ce4",
            "content_dependencies": null
        },
        {
            "cell_type": "code",
            "metadata": {
                "source_hash": "dd95e5cb",
                "execution_start": 1756812608489,
                "execution_millis": 1,
                "execution_context_id": "15d1de5c-41eb-4b55-991e-4e7a71896f2e",
                "cell_id": "faa688095f8f4decaa315be3148ac06e",
                "deepnote_cell_type": "code"
            },
            "source": "# Объединение groups_add с основным groups\ngroups_full = pd.concat([groups, groups_add], ignore_index=True)\n",
            "block_group": "10d8e71269ca41ac961d3467ceaf58ab",
            "execution_count": 7,
            "outputs": [],
            "outputs_reference": null,
            "content_dependencies": null
        },
        {
            "cell_type": "code",
            "metadata": {
                "source_hash": "8d1be4d7",
                "execution_start": 1756812608539,
                "execution_millis": 1,
                "execution_context_id": "15d1de5c-41eb-4b55-991e-4e7a71896f2e",
                "cell_id": "174ffc4339d14e54b0516de4c441dcdc",
                "deepnote_cell_type": "code"
            },
            "source": "groups_full",
            "block_group": "101faeb1753f4b7eb6a0f0200b54ce8a",
            "execution_count": 8,
            "outputs": [
                {
                    "output_type": "execute_result",
                    "execution_count": 8,
                    "data": {
                        "application/vnd.deepnote.dataframe.v3+json": {
                            "column_count": 2,
                            "columns": [
                                {
                                    "name": "id",
                                    "dtype": "int64",
                                    "stats": {
                                        "unique_count": 74576,
                                        "nan_count": 0,
                                        "min": "1489",
                                        "max": "201067659",
                                        "histogram": [
                                            {
                                                "bin_start": 1489,
                                                "bin_end": 20108106,
                                                "count": 74565
                                            },
                                            {
                                                "bin_start": 20108106,
                                                "bin_end": 40214723,
                                                "count": 0
                                            },
                                            {
                                                "bin_start": 40214723,
                                                "bin_end": 60321340,
                                                "count": 0
                                            },
                                            {
                                                "bin_start": 60321340,
                                                "bin_end": 80427957,
                                                "count": 0
                                            },
                                            {
                                                "bin_start": 80427957,
                                                "bin_end": 100534574,
                                                "count": 0
                                            },
                                            {
                                                "bin_start": 100534574,
                                                "bin_end": 120641191,
                                                "count": 1
                                            },
                                            {
                                                "bin_start": 120641191,
                                                "bin_end": 140747808,
                                                "count": 0
                                            },
                                            {
                                                "bin_start": 140747808,
                                                "bin_end": 160854425,
                                                "count": 0
                                            },
                                            {
                                                "bin_start": 160854425,
                                                "bin_end": 180961042,
                                                "count": 0
                                            },
                                            {
                                                "bin_start": 180961042,
                                                "bin_end": 201067659,
                                                "count": 10
                                            }
                                        ],
                                        "categories": null
                                    }
                                },
                                {
                                    "name": "grp",
                                    "dtype": "object"
                                },
                                {
                                    "name": "_deepnote_index_column",
                                    "dtype": "int64"
                                }
                            ],
                            "row_count": 74576,
                            "preview_row_count": 74576,
                            "rows": [
                                {
                                    "id": 1489,
                                    "grp": "B",
                                    "_deepnote_index_column": 0
                                },
                                {
                                    "id": 1627,
                                    "grp": "A",
                                    "_deepnote_index_column": 1
                                },
                                {
                                    "id": 1768,
                                    "grp": "B",
                                    "_deepnote_index_column": 2
                                },
                                {
                                    "id": 1783,
                                    "grp": "B",
                                    "_deepnote_index_column": 3
                                },
                                {
                                    "id": 1794,
                                    "grp": "A",
                                    "_deepnote_index_column": 4
                                },
                                {
                                    "id": 1803,
                                    "grp": "B",
                                    "_deepnote_index_column": 5
                                },
                                {
                                    "id": 1805,
                                    "grp": "B",
                                    "_deepnote_index_column": 6
                                },
                                {
                                    "id": 2067,
                                    "grp": "A",
                                    "_deepnote_index_column": 7
                                },
                                {
                                    "id": 2078,
                                    "grp": "A",
                                    "_deepnote_index_column": 8
                                },
                                {
                                    "id": 2080,
                                    "grp": "B",
                                    "_deepnote_index_column": 9
                                }
                            ],
                            "type": "dataframe"
                        },
                        "text/plain": "              id grp\n0           1489   B\n1           1627   A\n2           1768   B\n3           1783   B\n4           1794   A\n...          ...  ..\n74571  200247820   B\n74572  201032527   B\n74573  201067612   B\n74574  201067653   B\n74575  201067659   B\n\n[74576 rows x 2 columns]",
                        "text/html": "<div>\n<style scoped>\n    .dataframe tbody tr th:only-of-type {\n        vertical-align: middle;\n    }\n\n    .dataframe tbody tr th {\n        vertical-align: top;\n    }\n\n    .dataframe thead th {\n        text-align: right;\n    }\n</style>\n<table border=\"1\" class=\"dataframe\">\n  <thead>\n    <tr style=\"text-align: right;\">\n      <th></th>\n      <th>id</th>\n      <th>grp</th>\n    </tr>\n  </thead>\n  <tbody>\n    <tr>\n      <th>0</th>\n      <td>1489</td>\n      <td>B</td>\n    </tr>\n    <tr>\n      <th>1</th>\n      <td>1627</td>\n      <td>A</td>\n    </tr>\n    <tr>\n      <th>2</th>\n      <td>1768</td>\n      <td>B</td>\n    </tr>\n    <tr>\n      <th>3</th>\n      <td>1783</td>\n      <td>B</td>\n    </tr>\n    <tr>\n      <th>4</th>\n      <td>1794</td>\n      <td>A</td>\n    </tr>\n    <tr>\n      <th>...</th>\n      <td>...</td>\n      <td>...</td>\n    </tr>\n    <tr>\n      <th>74571</th>\n      <td>200247820</td>\n      <td>B</td>\n    </tr>\n    <tr>\n      <th>74572</th>\n      <td>201032527</td>\n      <td>B</td>\n    </tr>\n    <tr>\n      <th>74573</th>\n      <td>201067612</td>\n      <td>B</td>\n    </tr>\n    <tr>\n      <th>74574</th>\n      <td>201067653</td>\n      <td>B</td>\n    </tr>\n    <tr>\n      <th>74575</th>\n      <td>201067659</td>\n      <td>B</td>\n    </tr>\n  </tbody>\n</table>\n<p>74576 rows × 2 columns</p>\n</div>"
                    },
                    "metadata": {}
                }
            ],
            "outputs_reference": "s3:deepnote-cell-outputs-production/053eee53-d91d-4d89-88ca-205d56d8cd44",
            "content_dependencies": null
        },
        {
            "cell_type": "code",
            "metadata": {
                "source_hash": "b2983371",
                "execution_start": 1756812608599,
                "execution_millis": 1,
                "execution_context_id": "15d1de5c-41eb-4b55-991e-4e7a71896f2e",
                "cell_id": "b00829eb79e94b23b6bdac8c13934049",
                "deepnote_cell_type": "code"
            },
            "source": "checks = checks.rename(columns={\"student_id\": \"student_id\", \"rev\": \"revenue\"})\ngroups_full = groups_full.rename(columns={\"id\": \"student_id\", \"grp\": \"group\"})",
            "block_group": "c2961779f01e4a4fb62f4dfe9d8ff633",
            "execution_count": 9,
            "outputs": [],
            "outputs_reference": null,
            "content_dependencies": null
        },
        {
            "cell_type": "code",
            "metadata": {
                "source_hash": "72f88da2",
                "execution_start": 1756812608659,
                "execution_millis": 1,
                "execution_context_id": "15d1de5c-41eb-4b55-991e-4e7a71896f2e",
                "cell_id": "60107c0014614450ad54a029f8f1c490",
                "deepnote_cell_type": "code"
            },
            "source": "checks",
            "block_group": "93ba620ae3cd433b9368dca58dffb241",
            "execution_count": 10,
            "outputs": [
                {
                    "output_type": "execute_result",
                    "execution_count": 10,
                    "data": {
                        "application/vnd.deepnote.dataframe.v3+json": {
                            "column_count": 2,
                            "columns": [
                                {
                                    "name": "student_id",
                                    "dtype": "int64",
                                    "stats": {
                                        "unique_count": 541,
                                        "nan_count": 0,
                                        "min": "1627",
                                        "max": "5740903",
                                        "histogram": [
                                            {
                                                "bin_start": 1627,
                                                "bin_end": 575554.6,
                                                "count": 112
                                            },
                                            {
                                                "bin_start": 575554.6,
                                                "bin_end": 1149482.2,
                                                "count": 58
                                            },
                                            {
                                                "bin_start": 1149482.2,
                                                "bin_end": 1723409.7999999998,
                                                "count": 62
                                            },
                                            {
                                                "bin_start": 1723409.7999999998,
                                                "bin_end": 2297337.4,
                                                "count": 28
                                            },
                                            {
                                                "bin_start": 2297337.4,
                                                "bin_end": 2871265,
                                                "count": 29
                                            },
                                            {
                                                "bin_start": 2871265,
                                                "bin_end": 3445192.5999999996,
                                                "count": 78
                                            },
                                            {
                                                "bin_start": 3445192.5999999996,
                                                "bin_end": 4019120.1999999997,
                                                "count": 42
                                            },
                                            {
                                                "bin_start": 4019120.1999999997,
                                                "bin_end": 4593047.8,
                                                "count": 48
                                            },
                                            {
                                                "bin_start": 4593047.8,
                                                "bin_end": 5166975.399999999,
                                                "count": 40
                                            },
                                            {
                                                "bin_start": 5166975.399999999,
                                                "bin_end": 5740903,
                                                "count": 44
                                            }
                                        ],
                                        "categories": null
                                    }
                                },
                                {
                                    "name": "revenue",
                                    "dtype": "float64",
                                    "stats": {
                                        "unique_count": 39,
                                        "nan_count": 0,
                                        "min": "199.0",
                                        "max": "4650.0",
                                        "histogram": [
                                            {
                                                "bin_start": 199,
                                                "bin_end": 644.1,
                                                "count": 180
                                            },
                                            {
                                                "bin_start": 644.1,
                                                "bin_end": 1089.2,
                                                "count": 156
                                            },
                                            {
                                                "bin_start": 1089.2,
                                                "bin_end": 1534.3000000000002,
                                                "count": 40
                                            },
                                            {
                                                "bin_start": 1534.3000000000002,
                                                "bin_end": 1979.4,
                                                "count": 136
                                            },
                                            {
                                                "bin_start": 1979.4,
                                                "bin_end": 2424.5,
                                                "count": 10
                                            },
                                            {
                                                "bin_start": 2424.5,
                                                "bin_end": 2869.6000000000004,
                                                "count": 2
                                            },
                                            {
                                                "bin_start": 2869.6000000000004,
                                                "bin_end": 3314.7000000000003,
                                                "count": 11
                                            },
                                            {
                                                "bin_start": 3314.7000000000003,
                                                "bin_end": 3759.8,
                                                "count": 5
                                            },
                                            {
                                                "bin_start": 3759.8,
                                                "bin_end": 4204.9,
                                                "count": 0
                                            },
                                            {
                                                "bin_start": 4204.9,
                                                "bin_end": 4650,
                                                "count": 1
                                            }
                                        ],
                                        "categories": null
                                    }
                                },
                                {
                                    "name": "_deepnote_index_column",
                                    "dtype": "int64"
                                }
                            ],
                            "row_count": 541,
                            "preview_row_count": 541,
                            "rows": [
                                {
                                    "student_id": 1627,
                                    "revenue": 990,
                                    "_deepnote_index_column": 0
                                },
                                {
                                    "student_id": 3185,
                                    "revenue": 690,
                                    "_deepnote_index_column": 1
                                },
                                {
                                    "student_id": 25973,
                                    "revenue": 690,
                                    "_deepnote_index_column": 2
                                },
                                {
                                    "student_id": 26280,
                                    "revenue": 690,
                                    "_deepnote_index_column": 3
                                },
                                {
                                    "student_id": 100300,
                                    "revenue": 990,
                                    "_deepnote_index_column": 4
                                },
                                {
                                    "student_id": 100645,
                                    "revenue": 630,
                                    "_deepnote_index_column": 5
                                },
                                {
                                    "student_id": 102534,
                                    "revenue": 580,
                                    "_deepnote_index_column": 6
                                },
                                {
                                    "student_id": 106837,
                                    "revenue": 290,
                                    "_deepnote_index_column": 7
                                },
                                {
                                    "student_id": 108270,
                                    "revenue": 290,
                                    "_deepnote_index_column": 8
                                },
                                {
                                    "student_id": 114366,
                                    "revenue": 690,
                                    "_deepnote_index_column": 9
                                }
                            ],
                            "type": "dataframe"
                        },
                        "text/plain": "     student_id  revenue\n0          1627    990.0\n1          3185    690.0\n2         25973    690.0\n3         26280    690.0\n4        100300    990.0\n..          ...      ...\n536     5645737   1900.0\n537     5651566   1900.0\n538     5662322   1900.0\n539     5681918   1900.0\n540     5740903   1900.0\n\n[541 rows x 2 columns]",
                        "text/html": "<div>\n<style scoped>\n    .dataframe tbody tr th:only-of-type {\n        vertical-align: middle;\n    }\n\n    .dataframe tbody tr th {\n        vertical-align: top;\n    }\n\n    .dataframe thead th {\n        text-align: right;\n    }\n</style>\n<table border=\"1\" class=\"dataframe\">\n  <thead>\n    <tr style=\"text-align: right;\">\n      <th></th>\n      <th>student_id</th>\n      <th>revenue</th>\n    </tr>\n  </thead>\n  <tbody>\n    <tr>\n      <th>0</th>\n      <td>1627</td>\n      <td>990.0</td>\n    </tr>\n    <tr>\n      <th>1</th>\n      <td>3185</td>\n      <td>690.0</td>\n    </tr>\n    <tr>\n      <th>2</th>\n      <td>25973</td>\n      <td>690.0</td>\n    </tr>\n    <tr>\n      <th>3</th>\n      <td>26280</td>\n      <td>690.0</td>\n    </tr>\n    <tr>\n      <th>4</th>\n      <td>100300</td>\n      <td>990.0</td>\n    </tr>\n    <tr>\n      <th>...</th>\n      <td>...</td>\n      <td>...</td>\n    </tr>\n    <tr>\n      <th>536</th>\n      <td>5645737</td>\n      <td>1900.0</td>\n    </tr>\n    <tr>\n      <th>537</th>\n      <td>5651566</td>\n      <td>1900.0</td>\n    </tr>\n    <tr>\n      <th>538</th>\n      <td>5662322</td>\n      <td>1900.0</td>\n    </tr>\n    <tr>\n      <th>539</th>\n      <td>5681918</td>\n      <td>1900.0</td>\n    </tr>\n    <tr>\n      <th>540</th>\n      <td>5740903</td>\n      <td>1900.0</td>\n    </tr>\n  </tbody>\n</table>\n<p>541 rows × 2 columns</p>\n</div>"
                    },
                    "metadata": {}
                }
            ],
            "outputs_reference": "s3:deepnote-cell-outputs-production/f18e22c3-f8cc-4fa8-aaa5-2a6c5057c25d",
            "content_dependencies": null
        },
        {
            "cell_type": "code",
            "metadata": {
                "source_hash": "8d1be4d7",
                "execution_start": 1756812608710,
                "execution_millis": 0,
                "execution_context_id": "15d1de5c-41eb-4b55-991e-4e7a71896f2e",
                "cell_id": "932b8a61224346578ffdbd5b62685c27",
                "deepnote_cell_type": "code"
            },
            "source": "groups_full",
            "block_group": "57fc9cfeae5845aeafa6eb01d5c7d179",
            "execution_count": 11,
            "outputs": [
                {
                    "output_type": "execute_result",
                    "execution_count": 11,
                    "data": {
                        "application/vnd.deepnote.dataframe.v3+json": {
                            "column_count": 2,
                            "columns": [
                                {
                                    "name": "student_id",
                                    "dtype": "int64",
                                    "stats": {
                                        "unique_count": 74576,
                                        "nan_count": 0,
                                        "min": "1489",
                                        "max": "201067659",
                                        "histogram": [
                                            {
                                                "bin_start": 1489,
                                                "bin_end": 20108106,
                                                "count": 74565
                                            },
                                            {
                                                "bin_start": 20108106,
                                                "bin_end": 40214723,
                                                "count": 0
                                            },
                                            {
                                                "bin_start": 40214723,
                                                "bin_end": 60321340,
                                                "count": 0
                                            },
                                            {
                                                "bin_start": 60321340,
                                                "bin_end": 80427957,
                                                "count": 0
                                            },
                                            {
                                                "bin_start": 80427957,
                                                "bin_end": 100534574,
                                                "count": 0
                                            },
                                            {
                                                "bin_start": 100534574,
                                                "bin_end": 120641191,
                                                "count": 1
                                            },
                                            {
                                                "bin_start": 120641191,
                                                "bin_end": 140747808,
                                                "count": 0
                                            },
                                            {
                                                "bin_start": 140747808,
                                                "bin_end": 160854425,
                                                "count": 0
                                            },
                                            {
                                                "bin_start": 160854425,
                                                "bin_end": 180961042,
                                                "count": 0
                                            },
                                            {
                                                "bin_start": 180961042,
                                                "bin_end": 201067659,
                                                "count": 10
                                            }
                                        ],
                                        "categories": null
                                    }
                                },
                                {
                                    "name": "group",
                                    "dtype": "object"
                                },
                                {
                                    "name": "_deepnote_index_column",
                                    "dtype": "int64"
                                }
                            ],
                            "row_count": 74576,
                            "preview_row_count": 74576,
                            "rows": [
                                {
                                    "student_id": 1489,
                                    "group": "B",
                                    "_deepnote_index_column": 0
                                },
                                {
                                    "student_id": 1627,
                                    "group": "A",
                                    "_deepnote_index_column": 1
                                },
                                {
                                    "student_id": 1768,
                                    "group": "B",
                                    "_deepnote_index_column": 2
                                },
                                {
                                    "student_id": 1783,
                                    "group": "B",
                                    "_deepnote_index_column": 3
                                },
                                {
                                    "student_id": 1794,
                                    "group": "A",
                                    "_deepnote_index_column": 4
                                },
                                {
                                    "student_id": 1803,
                                    "group": "B",
                                    "_deepnote_index_column": 5
                                },
                                {
                                    "student_id": 1805,
                                    "group": "B",
                                    "_deepnote_index_column": 6
                                },
                                {
                                    "student_id": 2067,
                                    "group": "A",
                                    "_deepnote_index_column": 7
                                },
                                {
                                    "student_id": 2078,
                                    "group": "A",
                                    "_deepnote_index_column": 8
                                },
                                {
                                    "student_id": 2080,
                                    "group": "B",
                                    "_deepnote_index_column": 9
                                }
                            ],
                            "type": "dataframe"
                        },
                        "text/plain": "       student_id group\n0            1489     B\n1            1627     A\n2            1768     B\n3            1783     B\n4            1794     A\n...           ...   ...\n74571   200247820     B\n74572   201032527     B\n74573   201067612     B\n74574   201067653     B\n74575   201067659     B\n\n[74576 rows x 2 columns]",
                        "text/html": "<div>\n<style scoped>\n    .dataframe tbody tr th:only-of-type {\n        vertical-align: middle;\n    }\n\n    .dataframe tbody tr th {\n        vertical-align: top;\n    }\n\n    .dataframe thead th {\n        text-align: right;\n    }\n</style>\n<table border=\"1\" class=\"dataframe\">\n  <thead>\n    <tr style=\"text-align: right;\">\n      <th></th>\n      <th>student_id</th>\n      <th>group</th>\n    </tr>\n  </thead>\n  <tbody>\n    <tr>\n      <th>0</th>\n      <td>1489</td>\n      <td>B</td>\n    </tr>\n    <tr>\n      <th>1</th>\n      <td>1627</td>\n      <td>A</td>\n    </tr>\n    <tr>\n      <th>2</th>\n      <td>1768</td>\n      <td>B</td>\n    </tr>\n    <tr>\n      <th>3</th>\n      <td>1783</td>\n      <td>B</td>\n    </tr>\n    <tr>\n      <th>4</th>\n      <td>1794</td>\n      <td>A</td>\n    </tr>\n    <tr>\n      <th>...</th>\n      <td>...</td>\n      <td>...</td>\n    </tr>\n    <tr>\n      <th>74571</th>\n      <td>200247820</td>\n      <td>B</td>\n    </tr>\n    <tr>\n      <th>74572</th>\n      <td>201032527</td>\n      <td>B</td>\n    </tr>\n    <tr>\n      <th>74573</th>\n      <td>201067612</td>\n      <td>B</td>\n    </tr>\n    <tr>\n      <th>74574</th>\n      <td>201067653</td>\n      <td>B</td>\n    </tr>\n    <tr>\n      <th>74575</th>\n      <td>201067659</td>\n      <td>B</td>\n    </tr>\n  </tbody>\n</table>\n<p>74576 rows × 2 columns</p>\n</div>"
                    },
                    "metadata": {}
                }
            ],
            "outputs_reference": "s3:deepnote-cell-outputs-production/84ac496f-f72a-46dd-9266-1c063b423c65",
            "content_dependencies": null
        },
        {
            "cell_type": "code",
            "metadata": {
                "source_hash": "d5fb6604",
                "execution_start": 1756812608760,
                "execution_millis": 0,
                "execution_context_id": "15d1de5c-41eb-4b55-991e-4e7a71896f2e",
                "cell_id": "6c6c975530b6412298215bff9c9fd3f9",
                "deepnote_cell_type": "code"
            },
            "source": "# Убираем дубли(если будут)\ngroups_full = groups_full.drop_duplicates(subset=\"student_id\")",
            "block_group": "191835ffb11e459fa44d531d6d4933d7",
            "execution_count": 12,
            "outputs": [],
            "outputs_reference": null,
            "content_dependencies": null
        },
        {
            "cell_type": "code",
            "metadata": {
                "source_hash": "8d1be4d7",
                "execution_start": 1756812608809,
                "execution_millis": 1,
                "execution_context_id": "15d1de5c-41eb-4b55-991e-4e7a71896f2e",
                "cell_id": "819c4ab5cb6f444fbac4cd95b6f08339",
                "deepnote_cell_type": "code"
            },
            "source": "groups_full",
            "block_group": "317762b218b145c1b46d873769e28898",
            "execution_count": 13,
            "outputs": [
                {
                    "output_type": "execute_result",
                    "execution_count": 13,
                    "data": {
                        "application/vnd.deepnote.dataframe.v3+json": {
                            "column_count": 2,
                            "columns": [
                                {
                                    "name": "student_id",
                                    "dtype": "int64",
                                    "stats": {
                                        "unique_count": 74576,
                                        "nan_count": 0,
                                        "min": "1489",
                                        "max": "201067659",
                                        "histogram": [
                                            {
                                                "bin_start": 1489,
                                                "bin_end": 20108106,
                                                "count": 74565
                                            },
                                            {
                                                "bin_start": 20108106,
                                                "bin_end": 40214723,
                                                "count": 0
                                            },
                                            {
                                                "bin_start": 40214723,
                                                "bin_end": 60321340,
                                                "count": 0
                                            },
                                            {
                                                "bin_start": 60321340,
                                                "bin_end": 80427957,
                                                "count": 0
                                            },
                                            {
                                                "bin_start": 80427957,
                                                "bin_end": 100534574,
                                                "count": 0
                                            },
                                            {
                                                "bin_start": 100534574,
                                                "bin_end": 120641191,
                                                "count": 1
                                            },
                                            {
                                                "bin_start": 120641191,
                                                "bin_end": 140747808,
                                                "count": 0
                                            },
                                            {
                                                "bin_start": 140747808,
                                                "bin_end": 160854425,
                                                "count": 0
                                            },
                                            {
                                                "bin_start": 160854425,
                                                "bin_end": 180961042,
                                                "count": 0
                                            },
                                            {
                                                "bin_start": 180961042,
                                                "bin_end": 201067659,
                                                "count": 10
                                            }
                                        ],
                                        "categories": null
                                    }
                                },
                                {
                                    "name": "group",
                                    "dtype": "object"
                                },
                                {
                                    "name": "_deepnote_index_column",
                                    "dtype": "int64"
                                }
                            ],
                            "row_count": 74576,
                            "preview_row_count": 74576,
                            "rows": [
                                {
                                    "student_id": 1489,
                                    "group": "B",
                                    "_deepnote_index_column": 0
                                },
                                {
                                    "student_id": 1627,
                                    "group": "A",
                                    "_deepnote_index_column": 1
                                },
                                {
                                    "student_id": 1768,
                                    "group": "B",
                                    "_deepnote_index_column": 2
                                },
                                {
                                    "student_id": 1783,
                                    "group": "B",
                                    "_deepnote_index_column": 3
                                },
                                {
                                    "student_id": 1794,
                                    "group": "A",
                                    "_deepnote_index_column": 4
                                },
                                {
                                    "student_id": 1803,
                                    "group": "B",
                                    "_deepnote_index_column": 5
                                },
                                {
                                    "student_id": 1805,
                                    "group": "B",
                                    "_deepnote_index_column": 6
                                },
                                {
                                    "student_id": 2067,
                                    "group": "A",
                                    "_deepnote_index_column": 7
                                },
                                {
                                    "student_id": 2078,
                                    "group": "A",
                                    "_deepnote_index_column": 8
                                },
                                {
                                    "student_id": 2080,
                                    "group": "B",
                                    "_deepnote_index_column": 9
                                }
                            ],
                            "type": "dataframe"
                        },
                        "text/plain": "       student_id group\n0            1489     B\n1            1627     A\n2            1768     B\n3            1783     B\n4            1794     A\n...           ...   ...\n74571   200247820     B\n74572   201032527     B\n74573   201067612     B\n74574   201067653     B\n74575   201067659     B\n\n[74576 rows x 2 columns]",
                        "text/html": "<div>\n<style scoped>\n    .dataframe tbody tr th:only-of-type {\n        vertical-align: middle;\n    }\n\n    .dataframe tbody tr th {\n        vertical-align: top;\n    }\n\n    .dataframe thead th {\n        text-align: right;\n    }\n</style>\n<table border=\"1\" class=\"dataframe\">\n  <thead>\n    <tr style=\"text-align: right;\">\n      <th></th>\n      <th>student_id</th>\n      <th>group</th>\n    </tr>\n  </thead>\n  <tbody>\n    <tr>\n      <th>0</th>\n      <td>1489</td>\n      <td>B</td>\n    </tr>\n    <tr>\n      <th>1</th>\n      <td>1627</td>\n      <td>A</td>\n    </tr>\n    <tr>\n      <th>2</th>\n      <td>1768</td>\n      <td>B</td>\n    </tr>\n    <tr>\n      <th>3</th>\n      <td>1783</td>\n      <td>B</td>\n    </tr>\n    <tr>\n      <th>4</th>\n      <td>1794</td>\n      <td>A</td>\n    </tr>\n    <tr>\n      <th>...</th>\n      <td>...</td>\n      <td>...</td>\n    </tr>\n    <tr>\n      <th>74571</th>\n      <td>200247820</td>\n      <td>B</td>\n    </tr>\n    <tr>\n      <th>74572</th>\n      <td>201032527</td>\n      <td>B</td>\n    </tr>\n    <tr>\n      <th>74573</th>\n      <td>201067612</td>\n      <td>B</td>\n    </tr>\n    <tr>\n      <th>74574</th>\n      <td>201067653</td>\n      <td>B</td>\n    </tr>\n    <tr>\n      <th>74575</th>\n      <td>201067659</td>\n      <td>B</td>\n    </tr>\n  </tbody>\n</table>\n<p>74576 rows × 2 columns</p>\n</div>"
                    },
                    "metadata": {}
                }
            ],
            "outputs_reference": "s3:deepnote-cell-outputs-production/cc64c767-a09a-4531-a91f-8b639927e0da",
            "content_dependencies": null
        },
        {
            "cell_type": "code",
            "metadata": {
                "source_hash": "7e6261a",
                "execution_start": 1756812608859,
                "execution_millis": 0,
                "execution_context_id": "15d1de5c-41eb-4b55-991e-4e7a71896f2e",
                "cell_id": "72eef80577a9442086700ce27ef31770",
                "deepnote_cell_type": "code"
            },
            "source": "# оставим только активных, у которых известна группа\nparticipants = active.merge(groups_full, on=\"student_id\", how=\"inner\")",
            "block_group": "e9c4ce5d16804606af8868172b824d51",
            "execution_count": 14,
            "outputs": [],
            "outputs_reference": null,
            "content_dependencies": null
        },
        {
            "cell_type": "code",
            "metadata": {
                "source_hash": "57cf0da7",
                "execution_start": 1756812608909,
                "execution_millis": 1,
                "execution_context_id": "15d1de5c-41eb-4b55-991e-4e7a71896f2e",
                "cell_id": "a388c32b0fdf4044a24ba9ae61e9c02c",
                "deepnote_cell_type": "code"
            },
            "source": "participants",
            "block_group": "15ebe7a2ce2a4563b6080c8127240b34",
            "execution_count": 15,
            "outputs": [
                {
                    "output_type": "execute_result",
                    "execution_count": 15,
                    "data": {
                        "application/vnd.deepnote.dataframe.v3+json": {
                            "column_count": 2,
                            "columns": [
                                {
                                    "name": "student_id",
                                    "dtype": "int64",
                                    "stats": {
                                        "unique_count": 8341,
                                        "nan_count": 0,
                                        "min": "1627",
                                        "max": "5951797",
                                        "histogram": [
                                            {
                                                "bin_start": 1627,
                                                "bin_end": 596644,
                                                "count": 1037
                                            },
                                            {
                                                "bin_start": 596644,
                                                "bin_end": 1191661,
                                                "count": 1330
                                            },
                                            {
                                                "bin_start": 1191661,
                                                "bin_end": 1786678,
                                                "count": 1389
                                            },
                                            {
                                                "bin_start": 1786678,
                                                "bin_end": 2381695,
                                                "count": 665
                                            },
                                            {
                                                "bin_start": 2381695,
                                                "bin_end": 2976712,
                                                "count": 509
                                            },
                                            {
                                                "bin_start": 2976712,
                                                "bin_end": 3571729,
                                                "count": 1227
                                            },
                                            {
                                                "bin_start": 3571729,
                                                "bin_end": 4166746,
                                                "count": 630
                                            },
                                            {
                                                "bin_start": 4166746,
                                                "bin_end": 4761763,
                                                "count": 714
                                            },
                                            {
                                                "bin_start": 4761763,
                                                "bin_end": 5356780,
                                                "count": 601
                                            },
                                            {
                                                "bin_start": 5356780,
                                                "bin_end": 5951797,
                                                "count": 239
                                            }
                                        ],
                                        "categories": null
                                    }
                                },
                                {
                                    "name": "group",
                                    "dtype": "object",
                                    "stats": {
                                        "unique_count": 2,
                                        "nan_count": 0,
                                        "min": null,
                                        "max": null,
                                        "histogram": null,
                                        "categories": [
                                            {
                                                "name": "B",
                                                "count": 6803
                                            },
                                            {
                                                "name": "A",
                                                "count": 1538
                                            }
                                        ]
                                    }
                                },
                                {
                                    "name": "_deepnote_index_column",
                                    "dtype": "int64"
                                }
                            ],
                            "row_count": 8341,
                            "preview_row_count": 8341,
                            "rows": [
                                {
                                    "student_id": 581585,
                                    "group": "A",
                                    "_deepnote_index_column": 0
                                },
                                {
                                    "student_id": 5723133,
                                    "group": "A",
                                    "_deepnote_index_column": 1
                                },
                                {
                                    "student_id": 3276743,
                                    "group": "B",
                                    "_deepnote_index_column": 2
                                },
                                {
                                    "student_id": 4238589,
                                    "group": "A",
                                    "_deepnote_index_column": 3
                                },
                                {
                                    "student_id": 4475369,
                                    "group": "B",
                                    "_deepnote_index_column": 4
                                },
                                {
                                    "student_id": 5481015,
                                    "group": "B",
                                    "_deepnote_index_column": 5
                                },
                                {
                                    "student_id": 1353433,
                                    "group": "B",
                                    "_deepnote_index_column": 6
                                },
                                {
                                    "student_id": 1394612,
                                    "group": "A",
                                    "_deepnote_index_column": 7
                                },
                                {
                                    "student_id": 1170611,
                                    "group": "B",
                                    "_deepnote_index_column": 8
                                },
                                {
                                    "student_id": 491277,
                                    "group": "B",
                                    "_deepnote_index_column": 9
                                }
                            ],
                            "type": "dataframe"
                        },
                        "text/plain": "      student_id group\n0         581585     A\n1        5723133     A\n2        3276743     B\n3        4238589     A\n4        4475369     B\n...          ...   ...\n8336     1794344     B\n8337      296883     B\n8338     3598448     B\n8339     3610547     B\n8340      205705     B\n\n[8341 rows x 2 columns]",
                        "text/html": "<div>\n<style scoped>\n    .dataframe tbody tr th:only-of-type {\n        vertical-align: middle;\n    }\n\n    .dataframe tbody tr th {\n        vertical-align: top;\n    }\n\n    .dataframe thead th {\n        text-align: right;\n    }\n</style>\n<table border=\"1\" class=\"dataframe\">\n  <thead>\n    <tr style=\"text-align: right;\">\n      <th></th>\n      <th>student_id</th>\n      <th>group</th>\n    </tr>\n  </thead>\n  <tbody>\n    <tr>\n      <th>0</th>\n      <td>581585</td>\n      <td>A</td>\n    </tr>\n    <tr>\n      <th>1</th>\n      <td>5723133</td>\n      <td>A</td>\n    </tr>\n    <tr>\n      <th>2</th>\n      <td>3276743</td>\n      <td>B</td>\n    </tr>\n    <tr>\n      <th>3</th>\n      <td>4238589</td>\n      <td>A</td>\n    </tr>\n    <tr>\n      <th>4</th>\n      <td>4475369</td>\n      <td>B</td>\n    </tr>\n    <tr>\n      <th>...</th>\n      <td>...</td>\n      <td>...</td>\n    </tr>\n    <tr>\n      <th>8336</th>\n      <td>1794344</td>\n      <td>B</td>\n    </tr>\n    <tr>\n      <th>8337</th>\n      <td>296883</td>\n      <td>B</td>\n    </tr>\n    <tr>\n      <th>8338</th>\n      <td>3598448</td>\n      <td>B</td>\n    </tr>\n    <tr>\n      <th>8339</th>\n      <td>3610547</td>\n      <td>B</td>\n    </tr>\n    <tr>\n      <th>8340</th>\n      <td>205705</td>\n      <td>B</td>\n    </tr>\n  </tbody>\n</table>\n<p>8341 rows × 2 columns</p>\n</div>"
                    },
                    "metadata": {}
                }
            ],
            "outputs_reference": "s3:deepnote-cell-outputs-production/cd203e93-e221-47df-b923-2f0c2f20556b",
            "content_dependencies": null
        },
        {
            "cell_type": "code",
            "metadata": {
                "source_hash": "5471995e",
                "execution_start": 1756812608959,
                "execution_millis": 0,
                "execution_context_id": "15d1de5c-41eb-4b55-991e-4e7a71896f2e",
                "cell_id": "1616170b2418431c9f8e47ec034f587b",
                "deepnote_cell_type": "code"
            },
            "source": "# объединим с оплатами\nchecks_part = checks.merge(participants, on=\"student_id\", how=\"inner\")",
            "block_group": "3ce4c8acc3ef447dbde49c0ab3806fe6",
            "execution_count": 16,
            "outputs": [],
            "outputs_reference": null,
            "content_dependencies": null
        },
        {
            "cell_type": "code",
            "metadata": {
                "source_hash": "61c51f6c",
                "execution_start": 1756812609020,
                "execution_millis": 0,
                "execution_context_id": "15d1de5c-41eb-4b55-991e-4e7a71896f2e",
                "cell_id": "af512e5db4f44b089b1ba7a943e3ef03",
                "deepnote_cell_type": "code"
            },
            "source": "checks_part",
            "block_group": "3cec74cd9f4b4f02bef12bcb2fb05ce2",
            "execution_count": 17,
            "outputs": [
                {
                    "output_type": "execute_result",
                    "execution_count": 17,
                    "data": {
                        "application/vnd.deepnote.dataframe.v3+json": {
                            "column_count": 3,
                            "columns": [
                                {
                                    "name": "student_id",
                                    "dtype": "int64",
                                    "stats": {
                                        "unique_count": 392,
                                        "nan_count": 0,
                                        "min": "1627",
                                        "max": "5740903",
                                        "histogram": [
                                            {
                                                "bin_start": 1627,
                                                "bin_end": 575554.6,
                                                "count": 32
                                            },
                                            {
                                                "bin_start": 575554.6,
                                                "bin_end": 1149482.2,
                                                "count": 51
                                            },
                                            {
                                                "bin_start": 1149482.2,
                                                "bin_end": 1723409.7999999998,
                                                "count": 51
                                            },
                                            {
                                                "bin_start": 1723409.7999999998,
                                                "bin_end": 2297337.4,
                                                "count": 23
                                            },
                                            {
                                                "bin_start": 2297337.4,
                                                "bin_end": 2871265,
                                                "count": 23
                                            },
                                            {
                                                "bin_start": 2871265,
                                                "bin_end": 3445192.5999999996,
                                                "count": 65
                                            },
                                            {
                                                "bin_start": 3445192.5999999996,
                                                "bin_end": 4019120.1999999997,
                                                "count": 36
                                            },
                                            {
                                                "bin_start": 4019120.1999999997,
                                                "bin_end": 4593047.8,
                                                "count": 42
                                            },
                                            {
                                                "bin_start": 4593047.8,
                                                "bin_end": 5166975.399999999,
                                                "count": 33
                                            },
                                            {
                                                "bin_start": 5166975.399999999,
                                                "bin_end": 5740903,
                                                "count": 36
                                            }
                                        ],
                                        "categories": null
                                    }
                                },
                                {
                                    "name": "revenue",
                                    "dtype": "float64",
                                    "stats": {
                                        "unique_count": 38,
                                        "nan_count": 0,
                                        "min": "199.0",
                                        "max": "4650.0",
                                        "histogram": [
                                            {
                                                "bin_start": 199,
                                                "bin_end": 644.1,
                                                "count": 135
                                            },
                                            {
                                                "bin_start": 644.1,
                                                "bin_end": 1089.2,
                                                "count": 73
                                            },
                                            {
                                                "bin_start": 1089.2,
                                                "bin_end": 1534.3000000000002,
                                                "count": 25
                                            },
                                            {
                                                "bin_start": 1534.3000000000002,
                                                "bin_end": 1979.4,
                                                "count": 131
                                            },
                                            {
                                                "bin_start": 1979.4,
                                                "bin_end": 2424.5,
                                                "count": 9
                                            },
                                            {
                                                "bin_start": 2424.5,
                                                "bin_end": 2869.6000000000004,
                                                "count": 2
                                            },
                                            {
                                                "bin_start": 2869.6000000000004,
                                                "bin_end": 3314.7000000000003,
                                                "count": 11
                                            },
                                            {
                                                "bin_start": 3314.7000000000003,
                                                "bin_end": 3759.8,
                                                "count": 5
                                            },
                                            {
                                                "bin_start": 3759.8,
                                                "bin_end": 4204.9,
                                                "count": 0
                                            },
                                            {
                                                "bin_start": 4204.9,
                                                "bin_end": 4650,
                                                "count": 1
                                            }
                                        ],
                                        "categories": null
                                    }
                                },
                                {
                                    "name": "group",
                                    "dtype": "object",
                                    "stats": {
                                        "unique_count": 2,
                                        "nan_count": 0,
                                        "min": null,
                                        "max": null,
                                        "histogram": null,
                                        "categories": [
                                            {
                                                "name": "B",
                                                "count": 314
                                            },
                                            {
                                                "name": "A",
                                                "count": 78
                                            }
                                        ]
                                    }
                                },
                                {
                                    "name": "_deepnote_index_column",
                                    "dtype": "int64"
                                }
                            ],
                            "row_count": 392,
                            "preview_row_count": 392,
                            "rows": [
                                {
                                    "student_id": 1627,
                                    "revenue": 990,
                                    "group": "A",
                                    "_deepnote_index_column": 0
                                },
                                {
                                    "student_id": 100300,
                                    "revenue": 990,
                                    "group": "B",
                                    "_deepnote_index_column": 1
                                },
                                {
                                    "student_id": 108270,
                                    "revenue": 290,
                                    "group": "B",
                                    "_deepnote_index_column": 2
                                },
                                {
                                    "student_id": 264473,
                                    "revenue": 1900.0001,
                                    "group": "B",
                                    "_deepnote_index_column": 3
                                },
                                {
                                    "student_id": 274352,
                                    "revenue": 690,
                                    "group": "B",
                                    "_deepnote_index_column": 4
                                },
                                {
                                    "student_id": 280036,
                                    "revenue": 199,
                                    "group": "B",
                                    "_deepnote_index_column": 5
                                },
                                {
                                    "student_id": 284083,
                                    "revenue": 398,
                                    "group": "B",
                                    "_deepnote_index_column": 6
                                },
                                {
                                    "student_id": 287008,
                                    "revenue": 1830,
                                    "group": "A",
                                    "_deepnote_index_column": 7
                                },
                                {
                                    "student_id": 299195,
                                    "revenue": 1900,
                                    "group": "B",
                                    "_deepnote_index_column": 8
                                },
                                {
                                    "student_id": 308549,
                                    "revenue": 1900,
                                    "group": "B",
                                    "_deepnote_index_column": 9
                                }
                            ],
                            "type": "dataframe"
                        },
                        "text/plain": "     student_id    revenue group\n0          1627   990.0000     A\n1        100300   990.0000     B\n2        108270   290.0000     B\n3        264473  1900.0001     B\n4        274352   690.0000     B\n..          ...        ...   ...\n387     5645737  1900.0000     B\n388     5651566  1900.0000     B\n389     5662322  1900.0000     B\n390     5681918  1900.0000     B\n391     5740903  1900.0000     B\n\n[392 rows x 3 columns]",
                        "text/html": "<div>\n<style scoped>\n    .dataframe tbody tr th:only-of-type {\n        vertical-align: middle;\n    }\n\n    .dataframe tbody tr th {\n        vertical-align: top;\n    }\n\n    .dataframe thead th {\n        text-align: right;\n    }\n</style>\n<table border=\"1\" class=\"dataframe\">\n  <thead>\n    <tr style=\"text-align: right;\">\n      <th></th>\n      <th>student_id</th>\n      <th>revenue</th>\n      <th>group</th>\n    </tr>\n  </thead>\n  <tbody>\n    <tr>\n      <th>0</th>\n      <td>1627</td>\n      <td>990.0000</td>\n      <td>A</td>\n    </tr>\n    <tr>\n      <th>1</th>\n      <td>100300</td>\n      <td>990.0000</td>\n      <td>B</td>\n    </tr>\n    <tr>\n      <th>2</th>\n      <td>108270</td>\n      <td>290.0000</td>\n      <td>B</td>\n    </tr>\n    <tr>\n      <th>3</th>\n      <td>264473</td>\n      <td>1900.0001</td>\n      <td>B</td>\n    </tr>\n    <tr>\n      <th>4</th>\n      <td>274352</td>\n      <td>690.0000</td>\n      <td>B</td>\n    </tr>\n    <tr>\n      <th>...</th>\n      <td>...</td>\n      <td>...</td>\n      <td>...</td>\n    </tr>\n    <tr>\n      <th>387</th>\n      <td>5645737</td>\n      <td>1900.0000</td>\n      <td>B</td>\n    </tr>\n    <tr>\n      <th>388</th>\n      <td>5651566</td>\n      <td>1900.0000</td>\n      <td>B</td>\n    </tr>\n    <tr>\n      <th>389</th>\n      <td>5662322</td>\n      <td>1900.0000</td>\n      <td>B</td>\n    </tr>\n    <tr>\n      <th>390</th>\n      <td>5681918</td>\n      <td>1900.0000</td>\n      <td>B</td>\n    </tr>\n    <tr>\n      <th>391</th>\n      <td>5740903</td>\n      <td>1900.0000</td>\n      <td>B</td>\n    </tr>\n  </tbody>\n</table>\n<p>392 rows × 3 columns</p>\n</div>"
                    },
                    "metadata": {}
                }
            ],
            "outputs_reference": "s3:deepnote-cell-outputs-production/486b5c74-8f93-4531-a8f9-b65f9151c553",
            "content_dependencies": null
        },
        {
            "cell_type": "code",
            "metadata": {
                "source_hash": "5c82dfc5",
                "execution_start": 1756812609069,
                "execution_millis": 0,
                "execution_context_id": "15d1de5c-41eb-4b55-991e-4e7a71896f2e",
                "cell_id": "9d055b9e16bf41b59bf181809b9ab18e",
                "deepnote_cell_type": "code"
            },
            "source": "# Сумма на пользователя\nuser_rev = checks_part.groupby([\"student_id\", \"group\"], as_index=False)[\"revenue\"].sum()\nuser_rev[\"payer\"] = user_rev[\"revenue\"] > 0\n\n\n# Полная таблица активных (включая тех, кто не платил)\nusers_full = participants.merge(user_rev, on=[\"student_id\",\"group\"], how=\"left\")\nusers_full[\"revenue\"] = users_full[\"revenue\"].fillna(0.0)\nusers_full[\"payer\"] = users_full[\"payer\"].fillna(False)",
            "block_group": "3614bbe032b045c0b47e583caa9f9418",
            "execution_count": 18,
            "outputs": [],
            "outputs_reference": null,
            "content_dependencies": null
        },
        {
            "cell_type": "code",
            "metadata": {
                "source_hash": "8d76d010",
                "execution_start": 1756812609119,
                "execution_millis": 1,
                "execution_context_id": "15d1de5c-41eb-4b55-991e-4e7a71896f2e",
                "cell_id": "4fb154f2f955489cb353b2804435bcd7",
                "deepnote_cell_type": "code"
            },
            "source": "user_rev",
            "block_group": "27cb4a7232014165a7ec90fc59e19ea9",
            "execution_count": 19,
            "outputs": [
                {
                    "output_type": "execute_result",
                    "execution_count": 19,
                    "data": {
                        "application/vnd.deepnote.dataframe.v3+json": {
                            "column_count": 4,
                            "columns": [
                                {
                                    "name": "student_id",
                                    "dtype": "int64",
                                    "stats": {
                                        "unique_count": 392,
                                        "nan_count": 0,
                                        "min": "1627",
                                        "max": "5740903",
                                        "histogram": [
                                            {
                                                "bin_start": 1627,
                                                "bin_end": 575554.6,
                                                "count": 32
                                            },
                                            {
                                                "bin_start": 575554.6,
                                                "bin_end": 1149482.2,
                                                "count": 51
                                            },
                                            {
                                                "bin_start": 1149482.2,
                                                "bin_end": 1723409.7999999998,
                                                "count": 51
                                            },
                                            {
                                                "bin_start": 1723409.7999999998,
                                                "bin_end": 2297337.4,
                                                "count": 23
                                            },
                                            {
                                                "bin_start": 2297337.4,
                                                "bin_end": 2871265,
                                                "count": 23
                                            },
                                            {
                                                "bin_start": 2871265,
                                                "bin_end": 3445192.5999999996,
                                                "count": 65
                                            },
                                            {
                                                "bin_start": 3445192.5999999996,
                                                "bin_end": 4019120.1999999997,
                                                "count": 36
                                            },
                                            {
                                                "bin_start": 4019120.1999999997,
                                                "bin_end": 4593047.8,
                                                "count": 42
                                            },
                                            {
                                                "bin_start": 4593047.8,
                                                "bin_end": 5166975.399999999,
                                                "count": 33
                                            },
                                            {
                                                "bin_start": 5166975.399999999,
                                                "bin_end": 5740903,
                                                "count": 36
                                            }
                                        ],
                                        "categories": null
                                    }
                                },
                                {
                                    "name": "group",
                                    "dtype": "object",
                                    "stats": {
                                        "unique_count": 2,
                                        "nan_count": 0,
                                        "min": null,
                                        "max": null,
                                        "histogram": null,
                                        "categories": [
                                            {
                                                "name": "B",
                                                "count": 314
                                            },
                                            {
                                                "name": "A",
                                                "count": 78
                                            }
                                        ]
                                    }
                                },
                                {
                                    "name": "revenue",
                                    "dtype": "float64",
                                    "stats": {
                                        "unique_count": 38,
                                        "nan_count": 0,
                                        "min": "199.0",
                                        "max": "4650.0",
                                        "histogram": [
                                            {
                                                "bin_start": 199,
                                                "bin_end": 644.1,
                                                "count": 135
                                            },
                                            {
                                                "bin_start": 644.1,
                                                "bin_end": 1089.2,
                                                "count": 73
                                            },
                                            {
                                                "bin_start": 1089.2,
                                                "bin_end": 1534.3000000000002,
                                                "count": 25
                                            },
                                            {
                                                "bin_start": 1534.3000000000002,
                                                "bin_end": 1979.4,
                                                "count": 131
                                            },
                                            {
                                                "bin_start": 1979.4,
                                                "bin_end": 2424.5,
                                                "count": 9
                                            },
                                            {
                                                "bin_start": 2424.5,
                                                "bin_end": 2869.6000000000004,
                                                "count": 2
                                            },
                                            {
                                                "bin_start": 2869.6000000000004,
                                                "bin_end": 3314.7000000000003,
                                                "count": 11
                                            },
                                            {
                                                "bin_start": 3314.7000000000003,
                                                "bin_end": 3759.8,
                                                "count": 5
                                            },
                                            {
                                                "bin_start": 3759.8,
                                                "bin_end": 4204.9,
                                                "count": 0
                                            },
                                            {
                                                "bin_start": 4204.9,
                                                "bin_end": 4650,
                                                "count": 1
                                            }
                                        ],
                                        "categories": null
                                    }
                                },
                                {
                                    "name": "payer",
                                    "dtype": "bool",
                                    "stats": {
                                        "unique_count": 1,
                                        "nan_count": 0,
                                        "min": null,
                                        "max": null,
                                        "histogram": null,
                                        "categories": [
                                            {
                                                "name": "True",
                                                "count": 392
                                            }
                                        ]
                                    }
                                },
                                {
                                    "name": "_deepnote_index_column",
                                    "dtype": "int64"
                                }
                            ],
                            "row_count": 392,
                            "preview_row_count": 392,
                            "rows": [
                                {
                                    "student_id": 1627,
                                    "group": "A",
                                    "revenue": 990,
                                    "payer": "True",
                                    "_deepnote_index_column": 0
                                },
                                {
                                    "student_id": 100300,
                                    "group": "B",
                                    "revenue": 990,
                                    "payer": "True",
                                    "_deepnote_index_column": 1
                                },
                                {
                                    "student_id": 108270,
                                    "group": "B",
                                    "revenue": 290,
                                    "payer": "True",
                                    "_deepnote_index_column": 2
                                },
                                {
                                    "student_id": 264473,
                                    "group": "B",
                                    "revenue": 1900.0001,
                                    "payer": "True",
                                    "_deepnote_index_column": 3
                                },
                                {
                                    "student_id": 274352,
                                    "group": "B",
                                    "revenue": 690,
                                    "payer": "True",
                                    "_deepnote_index_column": 4
                                },
                                {
                                    "student_id": 280036,
                                    "group": "B",
                                    "revenue": 199,
                                    "payer": "True",
                                    "_deepnote_index_column": 5
                                },
                                {
                                    "student_id": 284083,
                                    "group": "B",
                                    "revenue": 398,
                                    "payer": "True",
                                    "_deepnote_index_column": 6
                                },
                                {
                                    "student_id": 287008,
                                    "group": "A",
                                    "revenue": 1830,
                                    "payer": "True",
                                    "_deepnote_index_column": 7
                                },
                                {
                                    "student_id": 299195,
                                    "group": "B",
                                    "revenue": 1900,
                                    "payer": "True",
                                    "_deepnote_index_column": 8
                                },
                                {
                                    "student_id": 308549,
                                    "group": "B",
                                    "revenue": 1900,
                                    "payer": "True",
                                    "_deepnote_index_column": 9
                                }
                            ],
                            "type": "dataframe"
                        },
                        "text/plain": "     student_id group    revenue  payer\n0          1627     A   990.0000   True\n1        100300     B   990.0000   True\n2        108270     B   290.0000   True\n3        264473     B  1900.0001   True\n4        274352     B   690.0000   True\n..          ...   ...        ...    ...\n387     5645737     B  1900.0000   True\n388     5651566     B  1900.0000   True\n389     5662322     B  1900.0000   True\n390     5681918     B  1900.0000   True\n391     5740903     B  1900.0000   True\n\n[392 rows x 4 columns]",
                        "text/html": "<div>\n<style scoped>\n    .dataframe tbody tr th:only-of-type {\n        vertical-align: middle;\n    }\n\n    .dataframe tbody tr th {\n        vertical-align: top;\n    }\n\n    .dataframe thead th {\n        text-align: right;\n    }\n</style>\n<table border=\"1\" class=\"dataframe\">\n  <thead>\n    <tr style=\"text-align: right;\">\n      <th></th>\n      <th>student_id</th>\n      <th>group</th>\n      <th>revenue</th>\n      <th>payer</th>\n    </tr>\n  </thead>\n  <tbody>\n    <tr>\n      <th>0</th>\n      <td>1627</td>\n      <td>A</td>\n      <td>990.0000</td>\n      <td>True</td>\n    </tr>\n    <tr>\n      <th>1</th>\n      <td>100300</td>\n      <td>B</td>\n      <td>990.0000</td>\n      <td>True</td>\n    </tr>\n    <tr>\n      <th>2</th>\n      <td>108270</td>\n      <td>B</td>\n      <td>290.0000</td>\n      <td>True</td>\n    </tr>\n    <tr>\n      <th>3</th>\n      <td>264473</td>\n      <td>B</td>\n      <td>1900.0001</td>\n      <td>True</td>\n    </tr>\n    <tr>\n      <th>4</th>\n      <td>274352</td>\n      <td>B</td>\n      <td>690.0000</td>\n      <td>True</td>\n    </tr>\n    <tr>\n      <th>...</th>\n      <td>...</td>\n      <td>...</td>\n      <td>...</td>\n      <td>...</td>\n    </tr>\n    <tr>\n      <th>387</th>\n      <td>5645737</td>\n      <td>B</td>\n      <td>1900.0000</td>\n      <td>True</td>\n    </tr>\n    <tr>\n      <th>388</th>\n      <td>5651566</td>\n      <td>B</td>\n      <td>1900.0000</td>\n      <td>True</td>\n    </tr>\n    <tr>\n      <th>389</th>\n      <td>5662322</td>\n      <td>B</td>\n      <td>1900.0000</td>\n      <td>True</td>\n    </tr>\n    <tr>\n      <th>390</th>\n      <td>5681918</td>\n      <td>B</td>\n      <td>1900.0000</td>\n      <td>True</td>\n    </tr>\n    <tr>\n      <th>391</th>\n      <td>5740903</td>\n      <td>B</td>\n      <td>1900.0000</td>\n      <td>True</td>\n    </tr>\n  </tbody>\n</table>\n<p>392 rows × 4 columns</p>\n</div>"
                    },
                    "metadata": {}
                }
            ],
            "outputs_reference": "s3:deepnote-cell-outputs-production/5f2634fd-d708-4975-8b5b-d637152fffc3",
            "content_dependencies": null
        },
        {
            "cell_type": "code",
            "metadata": {
                "source_hash": "d91a969c",
                "execution_start": 1756812609179,
                "execution_millis": 1,
                "execution_context_id": "15d1de5c-41eb-4b55-991e-4e7a71896f2e",
                "cell_id": "958c18198ed342b3934535c2b7200c53",
                "deepnote_cell_type": "code"
            },
            "source": "users_full",
            "block_group": "19383e5c7fd34a84ae44b0107cc807d7",
            "execution_count": 20,
            "outputs": [
                {
                    "output_type": "execute_result",
                    "execution_count": 20,
                    "data": {
                        "application/vnd.deepnote.dataframe.v3+json": {
                            "column_count": 4,
                            "columns": [
                                {
                                    "name": "student_id",
                                    "dtype": "int64",
                                    "stats": {
                                        "unique_count": 8341,
                                        "nan_count": 0,
                                        "min": "1627",
                                        "max": "5951797",
                                        "histogram": [
                                            {
                                                "bin_start": 1627,
                                                "bin_end": 596644,
                                                "count": 1037
                                            },
                                            {
                                                "bin_start": 596644,
                                                "bin_end": 1191661,
                                                "count": 1330
                                            },
                                            {
                                                "bin_start": 1191661,
                                                "bin_end": 1786678,
                                                "count": 1389
                                            },
                                            {
                                                "bin_start": 1786678,
                                                "bin_end": 2381695,
                                                "count": 665
                                            },
                                            {
                                                "bin_start": 2381695,
                                                "bin_end": 2976712,
                                                "count": 509
                                            },
                                            {
                                                "bin_start": 2976712,
                                                "bin_end": 3571729,
                                                "count": 1227
                                            },
                                            {
                                                "bin_start": 3571729,
                                                "bin_end": 4166746,
                                                "count": 630
                                            },
                                            {
                                                "bin_start": 4166746,
                                                "bin_end": 4761763,
                                                "count": 714
                                            },
                                            {
                                                "bin_start": 4761763,
                                                "bin_end": 5356780,
                                                "count": 601
                                            },
                                            {
                                                "bin_start": 5356780,
                                                "bin_end": 5951797,
                                                "count": 239
                                            }
                                        ],
                                        "categories": null
                                    }
                                },
                                {
                                    "name": "group",
                                    "dtype": "object",
                                    "stats": {
                                        "unique_count": 2,
                                        "nan_count": 0,
                                        "min": null,
                                        "max": null,
                                        "histogram": null,
                                        "categories": [
                                            {
                                                "name": "B",
                                                "count": 6803
                                            },
                                            {
                                                "name": "A",
                                                "count": 1538
                                            }
                                        ]
                                    }
                                },
                                {
                                    "name": "revenue",
                                    "dtype": "float64",
                                    "stats": {
                                        "unique_count": 39,
                                        "nan_count": 0,
                                        "min": "0.0",
                                        "max": "4650.0",
                                        "histogram": [
                                            {
                                                "bin_start": 0,
                                                "bin_end": 465,
                                                "count": 8058
                                            },
                                            {
                                                "bin_start": 465,
                                                "bin_end": 930,
                                                "count": 75
                                            },
                                            {
                                                "bin_start": 930,
                                                "bin_end": 1395,
                                                "count": 41
                                            },
                                            {
                                                "bin_start": 1395,
                                                "bin_end": 1860,
                                                "count": 10
                                            },
                                            {
                                                "bin_start": 1860,
                                                "bin_end": 2325,
                                                "count": 138
                                            },
                                            {
                                                "bin_start": 2325,
                                                "bin_end": 2790,
                                                "count": 0
                                            },
                                            {
                                                "bin_start": 2790,
                                                "bin_end": 3255,
                                                "count": 12
                                            },
                                            {
                                                "bin_start": 3255,
                                                "bin_end": 3720,
                                                "count": 6
                                            },
                                            {
                                                "bin_start": 3720,
                                                "bin_end": 4185,
                                                "count": 0
                                            },
                                            {
                                                "bin_start": 4185,
                                                "bin_end": 4650,
                                                "count": 1
                                            }
                                        ],
                                        "categories": null
                                    }
                                },
                                {
                                    "name": "payer",
                                    "dtype": "bool",
                                    "stats": {
                                        "unique_count": 2,
                                        "nan_count": 0,
                                        "min": null,
                                        "max": null,
                                        "histogram": null,
                                        "categories": [
                                            {
                                                "name": "False",
                                                "count": 7949
                                            },
                                            {
                                                "name": "True",
                                                "count": 392
                                            }
                                        ]
                                    }
                                },
                                {
                                    "name": "_deepnote_index_column",
                                    "dtype": "int64"
                                }
                            ],
                            "row_count": 8341,
                            "preview_row_count": 8341,
                            "rows": [
                                {
                                    "student_id": 581585,
                                    "group": "A",
                                    "revenue": 0,
                                    "payer": "False",
                                    "_deepnote_index_column": 0
                                },
                                {
                                    "student_id": 5723133,
                                    "group": "A",
                                    "revenue": 0,
                                    "payer": "False",
                                    "_deepnote_index_column": 1
                                },
                                {
                                    "student_id": 3276743,
                                    "group": "B",
                                    "revenue": 0,
                                    "payer": "False",
                                    "_deepnote_index_column": 2
                                },
                                {
                                    "student_id": 4238589,
                                    "group": "A",
                                    "revenue": 0,
                                    "payer": "False",
                                    "_deepnote_index_column": 3
                                },
                                {
                                    "student_id": 4475369,
                                    "group": "B",
                                    "revenue": 0,
                                    "payer": "False",
                                    "_deepnote_index_column": 4
                                },
                                {
                                    "student_id": 5481015,
                                    "group": "B",
                                    "revenue": 0,
                                    "payer": "False",
                                    "_deepnote_index_column": 5
                                },
                                {
                                    "student_id": 1353433,
                                    "group": "B",
                                    "revenue": 0,
                                    "payer": "False",
                                    "_deepnote_index_column": 6
                                },
                                {
                                    "student_id": 1394612,
                                    "group": "A",
                                    "revenue": 0,
                                    "payer": "False",
                                    "_deepnote_index_column": 7
                                },
                                {
                                    "student_id": 1170611,
                                    "group": "B",
                                    "revenue": 0,
                                    "payer": "False",
                                    "_deepnote_index_column": 8
                                },
                                {
                                    "student_id": 491277,
                                    "group": "B",
                                    "revenue": 0,
                                    "payer": "False",
                                    "_deepnote_index_column": 9
                                }
                            ],
                            "type": "dataframe"
                        },
                        "text/plain": "      student_id group  revenue  payer\n0         581585     A      0.0  False\n1        5723133     A      0.0  False\n2        3276743     B      0.0  False\n3        4238589     A      0.0  False\n4        4475369     B      0.0  False\n...          ...   ...      ...    ...\n8336     1794344     B      0.0  False\n8337      296883     B      0.0  False\n8338     3598448     B      0.0  False\n8339     3610547     B    290.0   True\n8340      205705     B      0.0  False\n\n[8341 rows x 4 columns]",
                        "text/html": "<div>\n<style scoped>\n    .dataframe tbody tr th:only-of-type {\n        vertical-align: middle;\n    }\n\n    .dataframe tbody tr th {\n        vertical-align: top;\n    }\n\n    .dataframe thead th {\n        text-align: right;\n    }\n</style>\n<table border=\"1\" class=\"dataframe\">\n  <thead>\n    <tr style=\"text-align: right;\">\n      <th></th>\n      <th>student_id</th>\n      <th>group</th>\n      <th>revenue</th>\n      <th>payer</th>\n    </tr>\n  </thead>\n  <tbody>\n    <tr>\n      <th>0</th>\n      <td>581585</td>\n      <td>A</td>\n      <td>0.0</td>\n      <td>False</td>\n    </tr>\n    <tr>\n      <th>1</th>\n      <td>5723133</td>\n      <td>A</td>\n      <td>0.0</td>\n      <td>False</td>\n    </tr>\n    <tr>\n      <th>2</th>\n      <td>3276743</td>\n      <td>B</td>\n      <td>0.0</td>\n      <td>False</td>\n    </tr>\n    <tr>\n      <th>3</th>\n      <td>4238589</td>\n      <td>A</td>\n      <td>0.0</td>\n      <td>False</td>\n    </tr>\n    <tr>\n      <th>4</th>\n      <td>4475369</td>\n      <td>B</td>\n      <td>0.0</td>\n      <td>False</td>\n    </tr>\n    <tr>\n      <th>...</th>\n      <td>...</td>\n      <td>...</td>\n      <td>...</td>\n      <td>...</td>\n    </tr>\n    <tr>\n      <th>8336</th>\n      <td>1794344</td>\n      <td>B</td>\n      <td>0.0</td>\n      <td>False</td>\n    </tr>\n    <tr>\n      <th>8337</th>\n      <td>296883</td>\n      <td>B</td>\n      <td>0.0</td>\n      <td>False</td>\n    </tr>\n    <tr>\n      <th>8338</th>\n      <td>3598448</td>\n      <td>B</td>\n      <td>0.0</td>\n      <td>False</td>\n    </tr>\n    <tr>\n      <th>8339</th>\n      <td>3610547</td>\n      <td>B</td>\n      <td>290.0</td>\n      <td>True</td>\n    </tr>\n    <tr>\n      <th>8340</th>\n      <td>205705</td>\n      <td>B</td>\n      <td>0.0</td>\n      <td>False</td>\n    </tr>\n  </tbody>\n</table>\n<p>8341 rows × 4 columns</p>\n</div>"
                    },
                    "metadata": {}
                }
            ],
            "outputs_reference": "s3:deepnote-cell-outputs-production/4345aa80-78ed-4b61-a6bb-1e1e8c10c76e",
            "content_dependencies": null
        },
        {
            "cell_type": "code",
            "metadata": {
                "source_hash": "cface023",
                "execution_start": 1756812609239,
                "execution_millis": 1,
                "execution_context_id": "15d1de5c-41eb-4b55-991e-4e7a71896f2e",
                "cell_id": "4ad6a9d60a7346c8a61113e8dfd43585",
                "deepnote_cell_type": "code"
            },
            "source": "# Найдем отдельно студентов, которые оплатили, но не были активными.В дальнейшем анализе они не будут участвовать, \n# мы их отфильтровываем на этапе предобработки данных (сначала взяли только активных, а потом объединили с оплатами)\n\n# студенты, которые оплатили\npaid_students = set(checks['student_id'].unique())\n\n# студенты, которые были активны\nactive_students = set(active['student_id'].unique())\n\n# те, кто оплатил, но не был активен\npaid_not_active = paid_students - active_students\n\nprint(\"Количество студентов, оплативших, но не активных:\", len(paid_not_active))",
            "block_group": "347f284cefc8409898f99f1eda5792d1",
            "execution_count": 21,
            "outputs": [
                {
                    "name": "stdout",
                    "text": "Количество студентов, оплативших, но не активных: 149\n",
                    "output_type": "stream"
                }
            ],
            "outputs_reference": "dbtable:cell_outputs/19ea10bb-8365-4f06-9658-fff3a62cbf03",
            "content_dependencies": null
        },
        {
            "cell_type": "markdown",
            "metadata": {
                "cell_id": "5b0605b7222049bcba55dc3acbe9b164",
                "deepnote_cell_type": "markdown"
            },
            "source": "### Выбор метрик\nПредполагаем, что целью тестируемой гипотезы по введению новой механики оплаты на сайте - увеличение количества оплат. У нас нет всех данных, но скорее всего команда предположила что старая схема не так удобна, возможно есть трудности у пользователя из-за которых не совершается так много покупок. Исходя из той информации, которая у нас есть , мы можем выбрпать следующие метрики :\n\n- конверсия в платящего клиента  \n- средний доход на одного платящего клиента (ARPPU)\n- ARPU (средний доход на пользователя)\n\n",
            "block_group": "1e5749c1efdf41d4bdf13b0784e5fa7b"
        },
        {
            "cell_type": "code",
            "metadata": {
                "source_hash": "fe8d4864",
                "execution_start": 1756812609289,
                "execution_millis": 1,
                "execution_context_id": "15d1de5c-41eb-4b55-991e-4e7a71896f2e",
                "cell_id": "61c91fe5101c4f1bab25bfc040dcae48",
                "deepnote_cell_type": "code"
            },
            "source": "# метрики\nsummary = users_full.groupby(\"group\").agg(users=(\"student_id\", \"nunique\"),payers=(\"payer\", \"sum\"),\\\n                                          total_revenue=(\"revenue\", \"sum\"),)\nsummary[\"conversion\"] = summary[\"payers\"] / summary[\"users\"]\nsummary[\"arpu\"] = summary[\"total_revenue\"] / summary[\"users\"]\nsummary[\"arppu\"] = summary[\"total_revenue\"] / summary[\"payers\"].replace({0: np.nan})\n",
            "block_group": "da17d448d64540658039e60f29d07bbc",
            "execution_count": 22,
            "outputs": [],
            "outputs_reference": null,
            "content_dependencies": null
        },
        {
            "cell_type": "code",
            "metadata": {
                "source_hash": "2167d1a3",
                "execution_start": 1756812609350,
                "execution_millis": 0,
                "execution_context_id": "15d1de5c-41eb-4b55-991e-4e7a71896f2e",
                "cell_id": "8c7a153fc738486088191da023bfbdb9",
                "deepnote_cell_type": "code"
            },
            "source": "summary",
            "block_group": "89d67039bf274170b512381853166e4e",
            "execution_count": 23,
            "outputs": [
                {
                    "output_type": "execute_result",
                    "execution_count": 23,
                    "data": {
                        "application/vnd.deepnote.dataframe.v3+json": {
                            "column_count": 6,
                            "columns": [
                                {
                                    "name": "users",
                                    "dtype": "int64",
                                    "stats": {
                                        "unique_count": 2,
                                        "nan_count": 0,
                                        "min": "1538",
                                        "max": "6803",
                                        "histogram": [
                                            {
                                                "bin_start": 1538,
                                                "bin_end": 2064.5,
                                                "count": 1
                                            },
                                            {
                                                "bin_start": 2064.5,
                                                "bin_end": 2591,
                                                "count": 0
                                            },
                                            {
                                                "bin_start": 2591,
                                                "bin_end": 3117.5,
                                                "count": 0
                                            },
                                            {
                                                "bin_start": 3117.5,
                                                "bin_end": 3644,
                                                "count": 0
                                            },
                                            {
                                                "bin_start": 3644,
                                                "bin_end": 4170.5,
                                                "count": 0
                                            },
                                            {
                                                "bin_start": 4170.5,
                                                "bin_end": 4697,
                                                "count": 0
                                            },
                                            {
                                                "bin_start": 4697,
                                                "bin_end": 5223.5,
                                                "count": 0
                                            },
                                            {
                                                "bin_start": 5223.5,
                                                "bin_end": 5750,
                                                "count": 0
                                            },
                                            {
                                                "bin_start": 5750,
                                                "bin_end": 6276.5,
                                                "count": 0
                                            },
                                            {
                                                "bin_start": 6276.5,
                                                "bin_end": 6803,
                                                "count": 1
                                            }
                                        ],
                                        "categories": null
                                    }
                                },
                                {
                                    "name": "payers",
                                    "dtype": "int64",
                                    "stats": {
                                        "unique_count": 2,
                                        "nan_count": 0,
                                        "min": "78",
                                        "max": "314",
                                        "histogram": [
                                            {
                                                "bin_start": 78,
                                                "bin_end": 101.6,
                                                "count": 1
                                            },
                                            {
                                                "bin_start": 101.6,
                                                "bin_end": 125.2,
                                                "count": 0
                                            },
                                            {
                                                "bin_start": 125.2,
                                                "bin_end": 148.8,
                                                "count": 0
                                            },
                                            {
                                                "bin_start": 148.8,
                                                "bin_end": 172.4,
                                                "count": 0
                                            },
                                            {
                                                "bin_start": 172.4,
                                                "bin_end": 196,
                                                "count": 0
                                            },
                                            {
                                                "bin_start": 196,
                                                "bin_end": 219.60000000000002,
                                                "count": 0
                                            },
                                            {
                                                "bin_start": 219.60000000000002,
                                                "bin_end": 243.20000000000002,
                                                "count": 0
                                            },
                                            {
                                                "bin_start": 243.20000000000002,
                                                "bin_end": 266.8,
                                                "count": 0
                                            },
                                            {
                                                "bin_start": 266.8,
                                                "bin_end": 290.4,
                                                "count": 0
                                            },
                                            {
                                                "bin_start": 290.4,
                                                "bin_end": 314,
                                                "count": 1
                                            }
                                        ],
                                        "categories": null
                                    }
                                },
                                {
                                    "name": "total_revenue",
                                    "dtype": "float64",
                                    "stats": {
                                        "unique_count": 2,
                                        "nan_count": 0,
                                        "min": "72820.0",
                                        "max": "394974.0035",
                                        "histogram": [
                                            {
                                                "bin_start": 72820,
                                                "bin_end": 105035.40035,
                                                "count": 1
                                            },
                                            {
                                                "bin_start": 105035.40035,
                                                "bin_end": 137250.8007,
                                                "count": 0
                                            },
                                            {
                                                "bin_start": 137250.8007,
                                                "bin_end": 169466.20105,
                                                "count": 0
                                            },
                                            {
                                                "bin_start": 169466.20105,
                                                "bin_end": 201681.60139999999,
                                                "count": 0
                                            },
                                            {
                                                "bin_start": 201681.60139999999,
                                                "bin_end": 233897.00175,
                                                "count": 0
                                            },
                                            {
                                                "bin_start": 233897.00175,
                                                "bin_end": 266112.4021,
                                                "count": 0
                                            },
                                            {
                                                "bin_start": 266112.4021,
                                                "bin_end": 298327.80244999996,
                                                "count": 0
                                            },
                                            {
                                                "bin_start": 298327.80244999996,
                                                "bin_end": 330543.20279999997,
                                                "count": 0
                                            },
                                            {
                                                "bin_start": 330543.20279999997,
                                                "bin_end": 362758.60315,
                                                "count": 0
                                            },
                                            {
                                                "bin_start": 362758.60315,
                                                "bin_end": 394974.0035,
                                                "count": 1
                                            }
                                        ],
                                        "categories": null
                                    }
                                },
                                {
                                    "name": "conversion",
                                    "dtype": "float64",
                                    "stats": {
                                        "unique_count": 2,
                                        "nan_count": 0,
                                        "min": "0.046156107599588415",
                                        "max": "0.05071521456436931",
                                        "histogram": [
                                            {
                                                "bin_start": 0.046156107599588415,
                                                "bin_end": 0.0466120182960665,
                                                "count": 1
                                            },
                                            {
                                                "bin_start": 0.0466120182960665,
                                                "bin_end": 0.0470679289925446,
                                                "count": 0
                                            },
                                            {
                                                "bin_start": 0.0470679289925446,
                                                "bin_end": 0.047523839689022684,
                                                "count": 0
                                            },
                                            {
                                                "bin_start": 0.047523839689022684,
                                                "bin_end": 0.04797975038550077,
                                                "count": 0
                                            },
                                            {
                                                "bin_start": 0.04797975038550077,
                                                "bin_end": 0.04843566108197886,
                                                "count": 0
                                            },
                                            {
                                                "bin_start": 0.04843566108197886,
                                                "bin_end": 0.04889157177845695,
                                                "count": 0
                                            },
                                            {
                                                "bin_start": 0.04889157177845695,
                                                "bin_end": 0.04934748247493504,
                                                "count": 0
                                            },
                                            {
                                                "bin_start": 0.04934748247493504,
                                                "bin_end": 0.04980339317141313,
                                                "count": 0
                                            },
                                            {
                                                "bin_start": 0.04980339317141313,
                                                "bin_end": 0.05025930386789122,
                                                "count": 0
                                            },
                                            {
                                                "bin_start": 0.05025930386789122,
                                                "bin_end": 0.05071521456436931,
                                                "count": 1
                                            }
                                        ],
                                        "categories": null
                                    }
                                },
                                {
                                    "name": "arpu",
                                    "dtype": "float64",
                                    "stats": {
                                        "unique_count": 2,
                                        "nan_count": 0,
                                        "min": "47.34720416124838",
                                        "max": "58.05879810377775",
                                        "histogram": [
                                            {
                                                "bin_start": 47.34720416124838,
                                                "bin_end": 48.418363555501315,
                                                "count": 1
                                            },
                                            {
                                                "bin_start": 48.418363555501315,
                                                "bin_end": 49.48952294975425,
                                                "count": 0
                                            },
                                            {
                                                "bin_start": 49.48952294975425,
                                                "bin_end": 50.56068234400719,
                                                "count": 0
                                            },
                                            {
                                                "bin_start": 50.56068234400719,
                                                "bin_end": 51.63184173826013,
                                                "count": 0
                                            },
                                            {
                                                "bin_start": 51.63184173826013,
                                                "bin_end": 52.703001132513066,
                                                "count": 0
                                            },
                                            {
                                                "bin_start": 52.703001132513066,
                                                "bin_end": 53.774160526765996,
                                                "count": 0
                                            },
                                            {
                                                "bin_start": 53.774160526765996,
                                                "bin_end": 54.845319921018934,
                                                "count": 0
                                            },
                                            {
                                                "bin_start": 54.845319921018934,
                                                "bin_end": 55.91647931527187,
                                                "count": 0
                                            },
                                            {
                                                "bin_start": 55.91647931527187,
                                                "bin_end": 56.98763870952481,
                                                "count": 0
                                            },
                                            {
                                                "bin_start": 56.98763870952481,
                                                "bin_end": 58.05879810377775,
                                                "count": 1
                                            }
                                        ],
                                        "categories": null
                                    }
                                },
                                {
                                    "name": "arppu",
                                    "dtype": "float64",
                                    "stats": {
                                        "unique_count": 2,
                                        "nan_count": 0,
                                        "min": "933.5897435897435",
                                        "max": "1257.8789920382164",
                                        "histogram": [
                                            {
                                                "bin_start": 933.5897435897435,
                                                "bin_end": 966.0186684345908,
                                                "count": 1
                                            },
                                            {
                                                "bin_start": 966.0186684345908,
                                                "bin_end": 998.4475932794381,
                                                "count": 0
                                            },
                                            {
                                                "bin_start": 998.4475932794381,
                                                "bin_end": 1030.8765181242854,
                                                "count": 0
                                            },
                                            {
                                                "bin_start": 1030.8765181242854,
                                                "bin_end": 1063.3054429691326,
                                                "count": 0
                                            },
                                            {
                                                "bin_start": 1063.3054429691326,
                                                "bin_end": 1095.73436781398,
                                                "count": 0
                                            },
                                            {
                                                "bin_start": 1095.73436781398,
                                                "bin_end": 1128.1632926588272,
                                                "count": 0
                                            },
                                            {
                                                "bin_start": 1128.1632926588272,
                                                "bin_end": 1160.5922175036744,
                                                "count": 0
                                            },
                                            {
                                                "bin_start": 1160.5922175036744,
                                                "bin_end": 1193.0211423485218,
                                                "count": 0
                                            },
                                            {
                                                "bin_start": 1193.0211423485218,
                                                "bin_end": 1225.4500671933693,
                                                "count": 0
                                            },
                                            {
                                                "bin_start": 1225.4500671933693,
                                                "bin_end": 1257.8789920382164,
                                                "count": 1
                                            }
                                        ],
                                        "categories": null
                                    }
                                },
                                {
                                    "name": "_deepnote_index_column",
                                    "dtype": "object"
                                }
                            ],
                            "row_count": 2,
                            "preview_row_count": 2,
                            "rows": [
                                {
                                    "users": 1538,
                                    "payers": 78,
                                    "total_revenue": 72820,
                                    "conversion": 0.05071521456436931,
                                    "arpu": 47.34720416124838,
                                    "arppu": 933.5897435897435,
                                    "_deepnote_index_column": "A"
                                },
                                {
                                    "users": 6803,
                                    "payers": 314,
                                    "total_revenue": 394974.0035,
                                    "conversion": 0.046156107599588415,
                                    "arpu": 58.05879810377775,
                                    "arppu": 1257.8789920382164,
                                    "_deepnote_index_column": "B"
                                }
                            ],
                            "type": "dataframe"
                        },
                        "text/plain": "       users  payers  total_revenue  conversion       arpu        arppu\ngroup                                                                  \nA       1538      78     72820.0000    0.050715  47.347204   933.589744\nB       6803     314    394974.0035    0.046156  58.058798  1257.878992",
                        "text/html": "<div>\n<style scoped>\n    .dataframe tbody tr th:only-of-type {\n        vertical-align: middle;\n    }\n\n    .dataframe tbody tr th {\n        vertical-align: top;\n    }\n\n    .dataframe thead th {\n        text-align: right;\n    }\n</style>\n<table border=\"1\" class=\"dataframe\">\n  <thead>\n    <tr style=\"text-align: right;\">\n      <th></th>\n      <th>users</th>\n      <th>payers</th>\n      <th>total_revenue</th>\n      <th>conversion</th>\n      <th>arpu</th>\n      <th>arppu</th>\n    </tr>\n    <tr>\n      <th>group</th>\n      <th></th>\n      <th></th>\n      <th></th>\n      <th></th>\n      <th></th>\n      <th></th>\n    </tr>\n  </thead>\n  <tbody>\n    <tr>\n      <th>A</th>\n      <td>1538</td>\n      <td>78</td>\n      <td>72820.0000</td>\n      <td>0.050715</td>\n      <td>47.347204</td>\n      <td>933.589744</td>\n    </tr>\n    <tr>\n      <th>B</th>\n      <td>6803</td>\n      <td>314</td>\n      <td>394974.0035</td>\n      <td>0.046156</td>\n      <td>58.058798</td>\n      <td>1257.878992</td>\n    </tr>\n  </tbody>\n</table>\n</div>"
                    },
                    "metadata": {}
                }
            ],
            "outputs_reference": "s3:deepnote-cell-outputs-production/26f349dc-24e1-4d80-a64c-427a169fd2b3",
            "content_dependencies": null
        },
        {
            "cell_type": "markdown",
            "metadata": {
                "cell_id": "2458642c0bf348b68b53f23ee347bf5b",
                "deepnote_cell_type": "markdown"
            },
            "source": "#### Проанализируем и проверим все метрики. Пусть у нас будут такие гипотезы для каждой:\n\nconversion  \n\n- Конверсия в контролькой и тестируемой группах не имеют статистически значимых отличий Н0  \n\n- Конверсия в котнрольной и тестируемой группах имеют статистически значимые различия Н1  \n\n\narpu  \n\n- Средний доход на пользователя в контролькой и тестируемой группах не имеют статистически значимых отличий Н0  \n\n- Средний доход на пользователя в контрольной и тестируемой группах имеют статистически значимые различия Н1  \n\n\narppu  \n\n- редний доход на платящего пользователя в контролькой и тестируемой группах не имеют статистически значимых отличий Н0  \n\n- редний доход на платящего пользователя в контрольной и тестируемой группах имеют статистически значимые различия Н1  ",
            "block_group": "c6bae402cd794c44a0e9b54747cd2230"
        },
        {
            "cell_type": "code",
            "metadata": {
                "source_hash": "8b83b906",
                "execution_start": 1756812609409,
                "execution_millis": 1,
                "execution_context_id": "15d1de5c-41eb-4b55-991e-4e7a71896f2e",
                "cell_id": "a1694a27c3ae487090271c7e27636512",
                "deepnote_cell_type": "code"
            },
            "source": "# Анализ conversion\n\n# Считаем конверсию как бинарный признак (payer=True это 1, False это 0)\nusers_full[\"conversion\"] = users_full[\"payer\"].astype(int)\n\n# Проверим равенство дисперсий тестом Левена (для всех, включая неплатящих)\ngroup_a = users_full.loc[users_full['group'] == 'A', 'conversion']\ngroup_b = users_full.loc[users_full['group'] == 'B', 'conversion']\n\nstat_levene, p_levene = stats.levene(group_a, group_b)\n\nprint(\"Статистика Левена:\", stat_levene)\nprint(\"p-value:\", p_levene)\n\nalpha = 0.05\nif p_levene > alpha:\n    print(\"Вывод: дисперсии равны\")\nelse:\n    print(\"Вывод: дисперсии отличаются\")\n",
            "block_group": "ce2459e783864c6590656580174b5748",
            "execution_count": 24,
            "outputs": [
                {
                    "name": "stdout",
                    "text": "Статистика Левена: 0.5820524099411407\np-value: 0.44553054513518253\nВывод: дисперсии равны\n",
                    "output_type": "stream"
                }
            ],
            "outputs_reference": "dbtable:cell_outputs/8a8d1e4a-eb0b-47ee-bf85-4608975df3e1",
            "content_dependencies": null
        },
        {
            "cell_type": "markdown",
            "metadata": {
                "cell_id": "66fde4b3d43a42d28119fb22b0a7e41e",
                "deepnote_cell_type": "markdown"
            },
            "source": "В таком случае, для анализа при равных дисперсиях используем тест Хи - квадрат",
            "block_group": "1b7ba802cd78413e88656141aaee4c7c"
        },
        {
            "cell_type": "code",
            "metadata": {
                "source_hash": "9b49bff1",
                "execution_start": 1756812609459,
                "execution_millis": 1,
                "execution_context_id": "15d1de5c-41eb-4b55-991e-4e7a71896f2e",
                "cell_id": "423427925c3145d6b7cc10760325220c",
                "deepnote_cell_type": "code"
            },
            "source": "# тест Хи - квадрат\n# Разделяем на группы\nconv_A = users_full.loc[users_full[\"group\"] == \"A\", \"conversion\"]\nconv_B = users_full.loc[users_full[\"group\"] == \"B\", \"conversion\"]\n\ntable = np.array([\n    [conv_A.sum(), len(conv_A) - conv_A.sum()],\n    [conv_B.sum(), len(conv_B) - conv_B.sum()]])\n\nchi2, p, dof, expected = stats.chi2_contingency(table)\n\nprint(f\"Chi2: {chi2}\")\nprint(f\"p-value: {p}\")\n\n\nif p < 0.05:\n    print(\"Есть статистически значимая разница в конверсии между группами\")\nelse:\n    print(\"Статистически значимой разницы нет\")",
            "block_group": "24a07bb40fd74fbd96e96e1c30a39fe1",
            "execution_count": 25,
            "outputs": [
                {
                    "name": "stdout",
                    "text": "Chi2: 0.48480826522557896\np-value: 0.48625240457231045\nСтатистически значимой разницы нет\n",
                    "output_type": "stream"
                }
            ],
            "outputs_reference": "dbtable:cell_outputs/d78f7105-15b2-4d57-a468-f7434eb98f33",
            "content_dependencies": null
        },
        {
            "cell_type": "code",
            "metadata": {
                "source_hash": "b559a57e",
                "execution_start": 1756812609509,
                "execution_millis": 1,
                "execution_context_id": "15d1de5c-41eb-4b55-991e-4e7a71896f2e",
                "cell_id": "87a8276a3df4416991ac89da82d328f2",
                "deepnote_cell_type": "code"
            },
            "source": "# Анализ ARPU\n\n# Проверим равенство дисперсий тестом Левена (для всех, включая неплатящих)\ngroup_a = users_full.loc[users_full['group'] == 'A', 'revenue']\ngroup_b = users_full.loc[users_full['group'] == 'B', 'revenue']\n\nstat_levene, p_levene = stats.levene(group_a, group_b)\n\nprint(\"Статистика Левена:\", stat_levene)\nprint(\"p-value:\", p_levene)\n\nalpha = 0.05\nif p_levene > alpha:\n    print(\"Вывод: дисперсии равны\")\nelse:\n    print(\"Вывод: дисперсии отличаются\")",
            "block_group": "4cbbf9bafd864909923b4611f6bec2bf",
            "execution_count": 26,
            "outputs": [
                {
                    "name": "stdout",
                    "text": "Статистика Левена: 1.5014608294336371\np-value: 0.22048133327049665\nВывод: дисперсии равны\n",
                    "output_type": "stream"
                }
            ],
            "outputs_reference": "dbtable:cell_outputs/274a00ad-954c-41bd-a0fc-f884d4daabb2",
            "content_dependencies": null
        },
        {
            "cell_type": "code",
            "metadata": {
                "source_hash": "aa01f020",
                "execution_start": 1756812609559,
                "execution_millis": 323,
                "execution_context_id": "15d1de5c-41eb-4b55-991e-4e7a71896f2e",
                "cell_id": "9aeb7b0a970447739944e1e53aed4eb9",
                "deepnote_cell_type": "code"
            },
            "source": "plt.figure(figsize=(16,5))\n\nfor g in users_full[\"group\"].unique():\n    subset = users_full[users_full[\"group\"] == g][\"revenue\"]\n    if len(subset) > 1:  # чтобы не падало, если мало данных\n        subset.plot(kind=\"kde\", label=f\"Group {g}\", lw=2)\n\nplt.title(\"Распределение revenue среди всех пользователей (KDE)\")\nplt.xlabel(\"Revenue\")\nplt.ylabel(\"Плотность\")\nplt.legend()\nplt.grid(True, alpha=0.3)\nplt.show()",
            "block_group": "03b4b0f2a6ab4c4c9423f84cc405c0b9",
            "execution_count": 27,
            "outputs": [
                {
                    "data": {
                        "text/plain": "<Figure size 1600x500 with 1 Axes>",
                        "image/png": "[encoded data removed]"
                    },
                    "metadata": {
                        "image/png": {
                            "width": 1328,
                            "height": 470
                        }
                    },
                    "output_type": "display_data"
                }
            ],
            "outputs_reference": "s3:deepnote-cell-outputs-production/60cc1770-ffb2-4305-ab59-0fffdb5db00e",
            "content_dependencies": null
        },
        {
            "cell_type": "markdown",
            "metadata": {
                "cell_id": "fe4720cd40d54dd09af33fec1817d6c5",
                "deepnote_cell_type": "markdown"
            },
            "source": "Проанализировав расперделение по графику, видим что оно скошено и имеет длинные хвосты для обеих групп. \nНо дисперсии по результатм теста Левена равны. В таком случае для тестирования используем t тест.",
            "block_group": "5626580641e34809ac1cb096f1a10a17"
        },
        {
            "cell_type": "code",
            "metadata": {
                "source_hash": "895bff1f",
                "execution_start": 1756812609939,
                "execution_millis": 1,
                "execution_context_id": "15d1de5c-41eb-4b55-991e-4e7a71896f2e",
                "cell_id": "07bc25e715684f32a11baffd58116c27",
                "deepnote_cell_type": "code"
            },
            "source": "# T-тест при равных дисперсиях\ngroup_a = users_full.loc[users_full['group'] == 'A', 'revenue']\ngroup_b = users_full.loc[users_full['group'] == 'B', 'revenue']\nt_stat, p_value = stats.ttest_ind(group_a, group_b, equal_var=True)\n\nprint(f\"T-statistic: {t_stat:.3f}\")\nprint(f\"P-value: {p_value:.3f}\")\n\nif p_value < 0.05:\n    print(\"Различие статистически значимо (p < 0.05).\")\nelse:\n    print(\"Различие незначимо.\")",
            "block_group": "5a442c0969804ad1bd449db6a124e5ec",
            "execution_count": 28,
            "outputs": [
                {
                    "name": "stdout",
                    "text": "T-statistic: -1.225\nP-value: 0.220\nРазличие незначимо.\n",
                    "output_type": "stream"
                }
            ],
            "outputs_reference": "dbtable:cell_outputs/6383df2e-e787-46ab-960b-0ee735e78147",
            "content_dependencies": null
        },
        {
            "cell_type": "code",
            "metadata": {
                "source_hash": "eedc708f",
                "execution_start": 1756812609999,
                "execution_millis": 1,
                "execution_context_id": "15d1de5c-41eb-4b55-991e-4e7a71896f2e",
                "cell_id": "1ae9ddd0fbda4974920f8590bdec252e",
                "deepnote_cell_type": "code"
            },
            "source": "# Анализ ARPPU\n\n# Проверим равенство дисперсий тестом Левена (для платящих)\ngroup_a = users_full.loc[(users_full[\"group\"] == \"A\") & (users_full[\"payer\"]), \"revenue\"]\ngroup_b = users_full.loc[(users_full[\"group\"] == \"B\") & (users_full[\"payer\"]), \"revenue\"]\n\nstat_levene, p_levene = stats.levene(group_a, group_b)\n\nprint(\"Статистика Левена:\", stat_levene)\nprint(\"p-value:\", p_levene)\n\nalpha = 0.05\nif p_levene > alpha:\n    print(\"Вывод: дисперсии равны\")\nelse:\n    print(\"Вывод: дисперсии отличаются\")\n",
            "block_group": "a0a24951cf154cfa8cfef0dda2f4daf8",
            "execution_count": 29,
            "outputs": [
                {
                    "name": "stdout",
                    "text": "Статистика Левена: 3.0756816999816055\np-value: 0.08025675761347022\nВывод: дисперсии равны\n",
                    "output_type": "stream"
                }
            ],
            "outputs_reference": "dbtable:cell_outputs/9f2200e1-b581-420b-92dd-76f5802905e5",
            "content_dependencies": null
        },
        {
            "cell_type": "code",
            "metadata": {
                "source_hash": "a452fcc0",
                "execution_start": 1756812610059,
                "execution_millis": 44,
                "execution_context_id": "15d1de5c-41eb-4b55-991e-4e7a71896f2e",
                "cell_id": "4aeb57cc0e454b1bac52e90d1f155739",
                "deepnote_cell_type": "code"
            },
            "source": "plt.figure(figsize=(16,5))\n\nfor g in users_full[\"group\"].unique():\n    subset = users_full[(users_full[\"group\"] == g) & (users_full[\"revenue\"] > 0)][\"revenue\"]\n    if len(subset) > 1:  # чтобы не падало, если мало данных\n        subset.plot(kind=\"kde\", label=f\"Group {g}\", lw=2)\n\nplt.title(\"Распределение revenue среди плательщиков (KDE)\")\nplt.xlabel(\"Revenue\")\nplt.ylabel(\"Плотность\")\nplt.legend()\nplt.grid(True, alpha=0.3)\nplt.show()",
            "block_group": "119565f1ade84e08b25193c13c38f4e2",
            "execution_count": 30,
            "outputs": [
                {
                    "data": {
                        "text/plain": "<Figure size 1600x500 with 1 Axes>",
                        "image/png": "[encoded data removed]"
                    },
                    "metadata": {
                        "image/png": {
                            "width": 1337,
                            "height": 470
                        }
                    },
                    "output_type": "display_data"
                }
            ],
            "outputs_reference": "s3:deepnote-cell-outputs-production/67d07015-ffa6-4a3a-bb89-7d4047021423",
            "content_dependencies": null
        },
        {
            "cell_type": "markdown",
            "metadata": {
                "cell_id": "dc7fc57ccac149c0b3109616e7b3b72b",
                "deepnote_cell_type": "markdown"
            },
            "source": "Проанализировав расперделение по графику, видим что оно имеет длинные хвосты в обеих группах, скошенно, ненормальное. \nНо дисперсии по результатм теста Левена равны. В таком случае для тестирования также возьмем t тест.",
            "block_group": "93a03ea83cd24d70ad1f166248c11058"
        },
        {
            "cell_type": "code",
            "metadata": {
                "source_hash": "772eb797",
                "execution_start": 1756812610149,
                "execution_millis": 1,
                "execution_context_id": "15d1de5c-41eb-4b55-991e-4e7a71896f2e",
                "cell_id": "0eb57e955b35466ab841d61058f3ecde",
                "deepnote_cell_type": "code"
            },
            "source": "# T-тест при равных дисперсиях\ngroup_a = users_full.loc[(users_full[\"group\"] == \"A\") & (users_full[\"payer\"]), \"revenue\"]\ngroup_b = users_full.loc[(users_full[\"group\"] == \"B\") & (users_full[\"payer\"]), \"revenue\"]\nt_stat, p_value = stats.ttest_ind(group_a, group_b, equal_var=True)\n\nprint(f\"T-statistic: {t_stat:.3f}\")\nprint(f\"P-value: {p_value:.3f}\")\n\nif p_value < 0.05:\n    print(\"Различие статистически значимо (p < 0.05).\")\nelse:\n    print(\"Различие незначимо.\")",
            "block_group": "33407d0de32c4bb6ba1d495e93612e60",
            "execution_count": 31,
            "outputs": [
                {
                    "name": "stdout",
                    "text": "T-statistic: -3.134\nP-value: 0.002\nРазличие статистически значимо (p < 0.05).\n",
                    "output_type": "stream"
                }
            ],
            "outputs_reference": "dbtable:cell_outputs/5b4ae51e-f5f5-471c-a38d-527d398031bf",
            "content_dependencies": null
        },
        {
            "cell_type": "markdown",
            "metadata": {
                "cell_id": "443bf63b558e4c52a9078446463b6b7e",
                "deepnote_cell_type": "markdown"
            },
            "source": "### Выводы\n\n1) Конверсия в группе A = 0.050715, в группе В = 0.046156. По результатам проведенных тестов, значения статистичеси не отличаются, мы не отклоняем нулевую гипотезу. Новая механика не увеличивает количество пользователей, коорые начинают платить, а даже немного снижает конверсию. \n\n2) ARPU (средний доход на пользователя) в группе A = 47.347204, в группе В = 58.058798. По результатам проведенных тестов,  различия статистически незначимы, хотя в тестовой группе наблюдается тенденция к росту.\n\n3) ARPPU (средний доход на плательщика) в группе A = 933.589744, в группе В = 1257.878992. По результатам тестов - Различие статистически значимо (p < 0.05).В данном случае отклоняем нулевую гипотезу.\n\n\n### Рекомендации\n\n1) Если цель — увеличение выручки от платящих клиентов, то механику можно рассматривать как перспективную. Ее можно было бы запустить на всех пользователей, однако с учетом что она немного снижает конверсию - это может быть рискованно, хоть она и существенно увеличила ARPPU.\n\n2) Если цель — увеличение числа платящих пользователей, то эффект не достигнут.\n\n3) Стоит протестировать механику дополнительно (сегментировать пользователей, посмотреть, кто именно даёт рост ARPPU).",
            "block_group": "2735515f1de24c5290722e46c8d812de"
        },
        {
            "cell_type": "markdown",
            "source": "<a style='text-decoration:none;line-height:16px;display:flex;color:#5B5B62;padding:10px;justify-content:end;' href='https://deepnote.com?utm_source=created-in-deepnote-cell&projectId=4be17dce-80ef-4cee-9f0e-a041cc84d2ef' target=\"_blank\">\n<img alt='Created in deepnote.com' style='display:inline;max-height:16px;margin:0px;margin-right:7.5px;' src='data:image/svg+xml;base64,PD94bWwgdmVyc2lvbj0iMS4wIiBlbmNvZGluZz0iVVRGLTgiPz4KPHN2ZyB3aWR0aD0iODBweCIgaGVpZ2h0PSI4MHB4IiB2aWV3Qm94PSIwIDAgODAgODAiIHZlcnNpb249IjEuMSIgeG1sbnM9Imh0dHA6Ly93d3cudzMub3JnLzIwMDAvc3ZnIiB4bWxuczp4bGluaz0iaHR0cDovL3d3dy53My5vcmcvMTk5OS94bGluayI+CiAgICA8IS0tIEdlbmVyYXRvcjogU2tldGNoIDU0LjEgKDc2NDkwKSAtIGh0dHBzOi8vc2tldGNoYXBwLmNvbSAtLT4KICAgIDx0aXRsZT5Hcm91cCAzPC90aXRsZT4KICAgIDxkZXNjPkNyZWF0ZWQgd2l0aCBTa2V0Y2guPC9kZXNjPgogICAgPGcgaWQ9IkxhbmRpbmciIHN0cm9rZT0ibm9uZSIgc3Ryb2tlLXdpZHRoPSIxIiBmaWxsPSJub25lIiBmaWxsLXJ1bGU9ImV2ZW5vZGQiPgogICAgICAgIDxnIGlkPSJBcnRib2FyZCIgdHJhbnNmb3JtPSJ0cmFuc2xhdGUoLTEyMzUuMDAwMDAwLCAtNzkuMDAwMDAwKSI+CiAgICAgICAgICAgIDxnIGlkPSJHcm91cC0zIiB0cmFuc2Zvcm09InRyYW5zbGF0ZSgxMjM1LjAwMDAwMCwgNzkuMDAwMDAwKSI+CiAgICAgICAgICAgICAgICA8cG9seWdvbiBpZD0iUGF0aC0yMCIgZmlsbD0iIzAyNjVCNCIgcG9pbnRzPSIyLjM3NjIzNzYyIDgwIDM4LjA0NzY2NjcgODAgNTcuODIxNzgyMiA3My44MDU3NTkyIDU3LjgyMTc4MjIgMzIuNzU5MjczOSAzOS4xNDAyMjc4IDMxLjY4MzE2ODMiPjwvcG9seWdvbj4KICAgICAgICAgICAgICAgIDxwYXRoIGQ9Ik0zNS4wMDc3MTgsODAgQzQyLjkwNjIwMDcsNzYuNDU0OTM1OCA0Ny41NjQ5MTY3LDcxLjU0MjI2NzEgNDguOTgzODY2LDY1LjI2MTk5MzkgQzUxLjExMjI4OTksNTUuODQxNTg0MiA0MS42NzcxNzk1LDQ5LjIxMjIyODQgMjUuNjIzOTg0Niw0OS4yMTIyMjg0IEMyNS40ODQ5Mjg5LDQ5LjEyNjg0NDggMjkuODI2MTI5Niw0My4yODM4MjQ4IDM4LjY0NzU4NjksMzEuNjgzMTY4MyBMNzIuODcxMjg3MSwzMi41NTQ0MjUgTDY1LjI4MDk3Myw2Ny42NzYzNDIxIEw1MS4xMTIyODk5LDc3LjM3NjE0NCBMMzUuMDA3NzE4LDgwIFoiIGlkPSJQYXRoLTIyIiBmaWxsPSIjMDAyODY4Ij48L3BhdGg+CiAgICAgICAgICAgICAgICA8cGF0aCBkPSJNMCwzNy43MzA0NDA1IEwyNy4xMTQ1MzcsMC4yNTcxMTE0MzYgQzYyLjM3MTUxMjMsLTEuOTkwNzE3MDEgODAsMTAuNTAwMzkyNyA4MCwzNy43MzA0NDA1IEM4MCw2NC45NjA0ODgyIDY0Ljc3NjUwMzgsNzkuMDUwMzQxNCAzNC4zMjk1MTEzLDgwIEM0Ny4wNTUzNDg5LDc3LjU2NzA4MDggNTMuNDE4MjY3Nyw3MC4zMTM2MTAzIDUzLjQxODI2NzcsNTguMjM5NTg4NSBDNTMuNDE4MjY3Nyw0MC4xMjg1NTU3IDM2LjMwMzk1NDQsMzcuNzMwNDQwNSAyNS4yMjc0MTcsMzcuNzMwNDQwNSBDMTcuODQzMDU4NiwzNy43MzA0NDA1IDkuNDMzOTE5NjYsMzcuNzMwNDQwNSAwLDM3LjczMDQ0MDUgWiIgaWQ9IlBhdGgtMTkiIGZpbGw9IiMzNzkzRUYiPjwvcGF0aD4KICAgICAgICAgICAgPC9nPgogICAgICAgIDwvZz4KICAgIDwvZz4KPC9zdmc+' > </img>\nCreated in <span style='font-weight:600;margin-left:4px;'>Deepnote</span></a>",
            "metadata": {
                "created_in_deepnote_cell": true,
                "deepnote_cell_type": "markdown"
            }
        }
    ],
    "nbformat": 4,
    "nbformat_minor": 0,
    "metadata": {
        "deepnote_notebook_id": "72a3dbdf4ca3441e8553fde67582fee3"
    }
}